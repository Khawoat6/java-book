{
 "cells": [
  {
   "cell_type": "markdown",
   "metadata": {},
   "source": [
    "# อีเวนต์และการโปรแกรมส่วนต่อประสานกราฟิกกับผู้ใช้\n",
    "\n",
    "การโปรแกรมแบบที่ผ่านมาตลอดเป็นการโปรแกรมในรูปแบบที่ทำงานไปตามลำดับคำสั่ง โดยมีการเปลี่ยนลำดับได้ด้วยคำสั่งควบคุมแบบต่าง ๆ เช่น ทางเลือก การวนซ้ำ การเรียกเมทอด เป็นต้น\n",
    "\n",
    "บางครั้งเราจำเป็นต้องตอบสนองเหตุการณ์ที่เกิดขึ้นในแต่ละช่วงเวลาให้้ทันท่วงทีในขณะที่โปรแกรมกำลังทำงานบางอย่างอยู่ เช่น ขณะที่โปรแกรมกำลังคำนวณผลลัพธ์จากชุดข้อมูลจำนวนมากอยู่ มีผู้ใช้เลื่อนเมาส์ไปคลิกบนปุ่มสั่งยกเลิกบนจอภาพ โปรแกรมจำเป็นต้องสามารถมาตอบสนองกับเหตุการณ์คลิกปุ่มนี้ได้ทั้งที่กำลังทำงานอื่นอยู่\n",
    "\n",
    "เราเรียกเหตุการณ์ที่เกิดขึ้นได้ในขณะที่โปรแกรมกำลังทำงานใด ๆ อยู่นั้นว่าอีเวนต์ (event) และโปรแกรมของเราต้องเตรียมการจัดการอีเวนต์ (event handling) สำหรับอีเวนต์แต่ละรูปแบบที่อาจจะเกิดขึ้นได้ การโปรแกรมโดยเน้นที่การรองรับและจัดการอีเวนต์เรียกว่าการโปรแกรมแบบขับเคลื่อนด้วยอีเวนต์ (event-driven programmin)\n",
    "\n",
    "ตัวอย่างที่เห็นได้ชัดเจนของโปรแกรมแบบขับเคลื่อนด้วยอีเวนต์คือโปรแกรมที่มีส่วนต่อประสานกราฟิกกับผู้ใช้ (graphical user interface) หรือ GUI (ออกเสียงว่า กุย กูอี้ หรือ จียูไอ) ซึ่งโปรแกรมมักจะต้องตอบสนองต่อเหตุการณ์ที่ผู้ใช้สร้างขึ้น เช่น การคลิกตามส่วนต่าง ๆ ของหน้าโปรแกรม หรือการพิมพ์ข้อมูลในหน้าโปรแกรม เป็นต้น\n",
    "\n",
    "การโปรแกรม GUI มีความสัมพันธ์กับแนวคิดเรื่องอีเวนต์อย่างมาก ก่อนจะพูดถึงเรื่อง GUI จึงขออธิบายการทำงานของระบบอีเวนต์ของ Java ก่อน\n",
    "\n",
    "## ระบบอีเวนต์ของ Java\n",
    "\n",
    "กระบวนการการเกิดและการจัดการอีเวนต์ประกอบด้วย 3 องค์ประกอบหลัก ได้แก่ ผู้สร้างอีเวนต์ ตัวอีเวนต์เอง และผู้จัดการอีเวนต์\n",
    "\n",
    "ผู้สร้างอีเวนต์คืออ็อบเจกต์ใด ๆ ที่กำลังทำงานอยู่และเกิดเหตุการณ์บางอย่างขึ้นกับตัวเอง และต้องการที่จะแจ้งเหตุการณ์ที่เกิดขึ้นนี้ออกไป\n",
    "\n",
    "ข้อมูลต่าง ๆ ที่เกี่ยวข้องกับเหตุการณ์ที่เกิดขึ้นจะถูกรวบรวมและสร้างขึ้นเป็นอ็อบเจกต์ที่เป็นตัวแทนของเหตุการณ์นั้น เรียกว่าอีเวนต์\n",
    "\n",
    "อีเวนต์จะถูกส่งไปยังผู้จัดการอีเวนต์ (event handler) ที่ได้ลงทะเบียนไว้กับผู้สร้างอีเวนต์ว่าจะจัดการกับอีเวนต์ประเภทนี้ ผู้จัดการอีเวนต์เป็นอ็อบเจกต์ประเภทหนึ่งที่ถูกสร้างขึ้นมาเพื่อจัดการกับอีเวนต์\n",
    "\n",
    "ทั้ง 3 องค์ประกอบ คือ ผู้สร้างอีเวนต์ ตัวอีเวนต์ และผู้จัดการอีเวนต์ ต่างก็เป็นอ็อบเจกต์ ผู้สร้างอีเวนต์มักจะเป็นอ็อบเจกต์จากคลาสกลุ่มที่เรียกว่าคอมโพเนนต์ (component) ซึ่งเป็นคลาสที่จัดการด้าน GUI แต่ก็มีอ็อบเจกต์จากคลาสกลุ่มอื่นบางคลาสที่สามารถสร้างอีเวนต์ได้เช่นกัน เช่น คลาส `Timer`\n",
    "\n",
    "ตัวอีเวนต์เองเป็นอ็อบเจกต์จากกลุ่มคลาสอีเวนต์ซึ่งเป็นซับคลาสของคลาส `AWTEvent`\n",
    "\n",
    "### component (event generator)\n",
    "\n",
    "#### Event handling thread, UI thread, main thread\n",
    "\n",
    "### กลุ่มคลาส Event\n",
    "\n",
    "### กลุ่มอินเทอร์เฟซ Listener\n",
    "\n",
    "### ขั้นตอนการ set up Event/Listener"
   ]
  },
  {
   "cell_type": "code",
   "execution_count": 9,
   "metadata": {},
   "outputs": [
    {
     "name": "stdout",
     "output_type": "stream",
     "text": [
      "Timer event occurred... 3 at time 1519406085147\n",
      "Timer event occurred... 2 at time 1519406086151\n",
      "Timer event occurred... 1 at time 1519406087155\n",
      "Timer event occurred... 0 at time 1519406088158\n"
     ]
    }
   ],
   "source": [
    "import javax.swing.Timer;\n",
    "import java.awt.event.ActionEvent;\n",
    "import java.awt.event.ActionListener;\n",
    "\n",
    "public class TimerEventTest {\n",
    "    private Timer timer;\n",
    "    private int count = 3;\n",
    "    \n",
    "    private class TimerListener implements ActionListener {\n",
    "        @Override\n",
    "        public void actionPerformed(ActionEvent e) {\n",
    "            System.out.println(\"Timer event occurred... \" + count + \" at time \" + e.getWhen());\n",
    "            count--;\n",
    "            if (count < 0) {\n",
    "                timer.stop();\n",
    "            }\n",
    "        }\n",
    "    }\n",
    "    \n",
    "    public TimerEventTest() {\n",
    "        timer = new Timer(1000, new TimerListener());\n",
    "        timer.start();\n",
    "    }\n",
    "    \n",
    "    public static void main(String[] args) {\n",
    "        TimerEventTest timerTest = new TimerEventTest();\n",
    "        \n",
    "        while (timerTest.timer.isRunning()) {\n",
    "            // Do nothing -- just keep polling\n",
    "        }\n",
    "    }\n",
    "}\n",
    "\n",
    "TimerEventTest.main(new String[0]);"
   ]
  },
  {
   "cell_type": "code",
   "execution_count": 2,
   "metadata": {},
   "outputs": [
    {
     "name": "stdout",
     "output_type": "stream",
     "text": [
      "3\n"
     ]
    }
   ],
   "source": [
    "System.out.println(1 + 2);"
   ]
  },
  {
   "cell_type": "code",
   "execution_count": null,
   "metadata": {},
   "outputs": [],
   "source": []
  }
 ],
 "metadata": {
  "kernelspec": {
   "display_name": "Java",
   "language": "java",
   "name": "java"
  },
  "language_info": {
   "codemirror_mode": "java",
   "file_extension": ".java",
   "mimetype": "text/x-java-source",
   "name": "Java",
   "pygments_lexer": "java",
   "version": "9.0.4+11"
  }
 },
 "nbformat": 4,
 "nbformat_minor": 2
}
