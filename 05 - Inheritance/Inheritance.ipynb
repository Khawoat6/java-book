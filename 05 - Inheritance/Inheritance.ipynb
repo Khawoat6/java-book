{
 "cells": [
  {
   "cell_type": "markdown",
   "metadata": {},
   "source": [
    "# การสืบทอด\n",
    "\n",
    "การสืบทอด (inheritance) คือการสร้างคลาสใหม่บนฐานของคลาสที่มีอยู่เดิมโดยการรับเอาคุณลักษณะและความสามารถมาจากคลาสเดิม และอาจจะเพิ่มความสามารถใหม่หรือเปลี่ยนแปลงความสามารถเดิมจากคลาสเดิมด้วย\n",
    "\n",
    "การสืบทอดเป็นคุณสมบัติที่สำคัญอันหนึ่งของการโปรแกรมแบบ OOP ทำให้เราสามารถพัฒนาโปรแกรมโดยการขยายความสามารถที่มีอยู่เดิมได้ เป็นการพัฒนาต่อจากรากฐานเดิมซึ่งอาจผ่านการทดสอบใช้งานและแก้ไขปรับปรุงมาก่อนแล้ว\n",
    "\n",
    "คลาสที่สืบทอดกันจะทำให้เกิดความสัมพันธ์ระหว่างคลาส โดยคลาสที่เป็นต้นแบบของการสืบทอดเราจะเรียกว่าซูเปอร์คลาส (superclass) และคลาสที่สืบทอดมาเรียกว่าซับคลาส (subclass) ในบางครั้งเราอาจจะพบการเรียกซูเปอร์คลาสว่าคลาสหลัก คลาสพื้นฐาน (base class) หรือคลาสแม่ (parent class) และซับคลาสว่าคลาสย่อย คลาสสืบต่อ (derived class) หรือคลาสลูก (child class) ได้เช่นกัน แต่ในที่นี้เราจะใช้คำว่าซูเปอร์คลาสและซับคลาสเป็นหลัก\n",
    "\n",
    "การสืบทอดทำให้เกิดความสัมพันธ์แบบลำดับชั้นของคลาส (class hierarchy) เช่น ถ้ามีคลาส `Person` ซึ่งสืบทอดโดยคลาส `Employee` และมีคลาส `SalariedEmployee` และ `CommissionEmployee` สืบทอดจากคลาส `Employee` ต่ออีกที เราจะกล่าวได้ว่า `Person` เป็นซูเปอร์คลาสโดยตรง (direct superclass) ของ `Employee` และยังเป็นซูเปอร์คลาสโดยอ้อม (indirect superclass) ของ `SalariedEmployee` และ `CommissionEmployee` อีกด้วย เนื่องจากเมื่อนับขึ้นไปตามลำดับชั้นของคลาสแล้ว ทั้ง 2 คลาสนี้มี `Person` อยู่ในสายของซูเปอร์คลาสของตัวเอง\n",
    "\n",
    "ใน Java ทุกคลาสจะมีคลาสชื่อว่า `Object` เป็นซูเปอร์คลาส (ไม่ว่าจะโดยตรงหรือโดยอ้อม) เราอาจกล่าวได้ว่า `Object` เป็นคลาสที่อยู่บนยอดของลำดับชั้นของคลาส คลาสใด ๆ ที่ไม่ได้ระบุว่าสืบทอดมาจากคลาสใดจะถือว่าสืบทอดมาจาก `Object` โดยตรงโดยปริยาย และคลาสที่สืบทอดจากคลาสอื่นก็จะสืบทอดจาก `Object` โดยอ้อมด้วย\n",
    "\n",
    "เราจะใช้การสืบทอดเมื่อต้องการสร้างคลาสที่มีลักษณะเฉพาะเจาะจงมากกว่าคลาสที่มีอยู่เดิม เช่น เราอาจจะสร้างคลาส `Employee` โดยสืบทอดจากคลาส `Person` เนื่องจากคลาส `Employee` แทนบุคคลที่มีสถานะเป็นพนักงาน (employee) ซึ่งถือเป็นลักษณะที่เฉพาะเจาะจงกว่าบุคคลทั่วไป (person) เรากล่าวได้ว่าซับคลาสจะมีความเฉพาะเจาะจง (specific) มากกว่า และซูเปอร์คลาสมีความทั่วไป (general) มากกว่า\n",
    "\n",
    "การใช้การสืบทอดในวัตถุประสงค์อื่นนอกเหนือจากการสร้างคลาสที่เฉพาะเจาะจงเป็นสิ่งที่ต้องระมัดระวังอย่างมาก เช่น การใช้เพียงเพื่อต้องการนำโค้ดมาใช้ซ้ำ (code reuse) ผ่านการสืบทอด เนื่องจากจะเป็นการสร้างกลุ่มคลาสที่มีความสัมพันธ์กันในลำดับชั้นแต่ไม่ได้สอดคล้องกันในเชิงความหมาย นำไปสู่ปัญหาในการใช้งานและการดูแลรักษาโค้ดในอนาคต เราจะกลับมากล่าวถึงประเด็นนี้โดยละเอียดอีกครั้งในภายหลัง\n",
    "\n",
    "เราใช้คำว่า `extends` ในการระบุการสืบทอด โดยมีรูปแบบวากยสัมพันธ์ดังนี้\n",
    "\n",
    "```\n",
    "<class-modifiers> class SubclassName extends SuperclassName {\n",
    "    ...\n",
    "}\n",
    "```\n",
    "\n",
    "คลาส `Counter` และ `UpDownCounter` ต่อไปนี้แสดงให้เห็นตัวอย่างการสืบทอด"
   ]
  },
  {
   "cell_type": "code",
   "execution_count": 12,
   "metadata": {},
   "outputs": [],
   "source": [
    "public class Counter {\n",
    "    public int value = 0;\n",
    "    \n",
    "    public void increase() {\n",
    "        value++;\n",
    "    }\n",
    "}"
   ]
  },
  {
   "cell_type": "markdown",
   "metadata": {},
   "source": [
    "กำหนดให้คลาส `UpDownCounter` สืบทอดจากคลาส `Counter` และเพิ่มเมทอด `decrease` เข้าไป"
   ]
  },
  {
   "cell_type": "code",
   "execution_count": 13,
   "metadata": {},
   "outputs": [],
   "source": [
    "public class UpDownCounter extends Counter {\n",
    "    public void decrease() {\n",
    "        value--;\n",
    "    }\n",
    "}"
   ]
  },
  {
   "cell_type": "markdown",
   "metadata": {},
   "source": [
    "เมื่อเราลองใช้งานดังนี้"
   ]
  },
  {
   "cell_type": "code",
   "execution_count": 16,
   "metadata": {},
   "outputs": [
    {
     "name": "stdout",
     "output_type": "stream",
     "text": [
      "c1: 1\n",
      "c2: 0\n"
     ]
    }
   ],
   "source": [
    "Counter c1 = new Counter();\n",
    "UpDownCounter c2 = new UpDownCounter();\n",
    "\n",
    "c1.increase();\n",
    "c2.increase();\n",
    "c2.decrease();\n",
    "\n",
    "System.out.println(\"c1: \" + c1.value);\n",
    "System.out.println(\"c2: \" + c2.value);"
   ]
  },
  {
   "cell_type": "markdown",
   "metadata": {},
   "source": [
    "`c2` สร้างจากคลาส `UpDownCounter` ซึ่งสืบทอดจากคลาส `Counter` จึงรับเอาตัวแปร `value` และเมทอด `increase` มาด้วย เราจึงสามารถเรียกเมทอด `increase` และอ้างอิงตัวแปร `value` ผ่าน `c2` ได้ นอกจากนี้เรายังเรียก `decrease` ซึ่งเพิ่มเข้ามาใน `UpDownCounter` ได้ด้วย\n",
    "\n",
    "ในทางกลับกัน ถ้าเราพยายามเรียก `c1.decrease()` โปรแกรมจะผิดพลาดและคอมไพล์ไม่ได้ทันที เนื่องจาก `c1` มาจากคลาส `Counter` ซึ่งไม่มีเมทอด `decrease`\n",
    "\n",
    "ตัวอย่าง `Counter` และ `UpDownCounter` นี้มีไว้เพื่อแสดงการสืบทอดเท่านั้น ในตัวอย่างนี้เรากำหนด `value` ให้เป็นสาธารณะเพื่อความสะดวกในการอ้างอิงจากคลาส `UpDownCounter` ถ้าหากเรากำหนดให้เป็นแบบส่วนตัว `UpDownCounter` จะไม่สามารถอ้างอิงถึง `value` ได้ถึงแม้จะสืบทอดมาก็ตาม แต่ในทางปฏิบัติ ตัวแปรของอินสแตนซ์ไม่ควรกำหนดให้เป็นสาธารณะเหมือนอย่าง `value` ในตัวอย่างนี้ ควรกำหนดให้เป็นแบบส่วนตัวแล้วใช้เมทอดสาธารณะในการเปลี่ยนแปลงค่าหรือเข้าถึงค่าตามความเหมาะสม หรืออาจจะใช้ระดับการเข้าถึงแบบคุ้มครอง (protected) ซึ่งเรากำลังจะกล่าวถึงในส่วนต่อไป\n",
    "\n",
    "## ระดับการเข้าถึงแบบคุ้มครอง\n",
    "\n",
    "การสืบทอดทำให้เราได้รับเอาสมาชิกต่าง ๆ (เช่น ตัวแปรหรือเมทอด) จากซูเปอร์คลาสมาเป็นสมาชิกของซับคลาส แต่การรับเอามานั้น หากสมาชิกนั้นกำหนดระดับการเข้าถึงเป็นแบบส่วนตัวไว้ในซูเปอร์คลาส ตัวซับคลาสเองก็จะไม่สามารถเข้าถึงสมาชิกนั้นโดยตรงได้ ถือว่ารับมาเป็นส่วนหนึ่งของตัวเอง แต่เรียกใช้หรืออ้างอิงไม่ได้นอกจากจะกระทำผ่านเมทอดอื่นที่สามารถเข้าถึงได้\n",
    "\n",
    "ก่อนหน้านี้เราได้พูดถึงการกำหนดระดับการเข้าถึงแบบสาธารณะ แบบเฉพาะแพกเกจ และแบบส่วนตัวไปแล้ว มีอีกหนึ่งระดับการเข้าถึงที่เรายังไม่ได้พูดถึงในรายละเอียด ได้แก่ ระดับการเข้าถึงแบบคุ้มครอง (protected) ซึ่งระบุด้วยตัวกำหนด `protected`\n",
    "\n",
    "ระดับการเข้าถึงแบบคุ้มครองมีระดับความจำกัดอยู่ระหว่างระดับสาธารณะและระดับเฉพาะแพกเกจ สมาชิกที่ถูกกำหนดให้เป็น `protected` จะสามารถเข้าถึงได้จากซับคลาสและจากคลาสอื่น ๆ ในแพกเกจเดียวกัน\n",
    "\n",
    "ตัวอย่างต่อไปนี้เป็นการใช้งานระดับการเข้าถึงแบบคุ้มครอง คลาส `Pair` ซึ่งกำหนดให้อยู่ในแพกเกจ `my.util` และกำหนดการเข้าถึงของตัวแปรสมาชิก `first` และ `second` เป็นแบบคุ้มครองโดยใช้ตัวกำหนด `protected` "
   ]
  },
  {
   "cell_type": "code",
   "execution_count": 12,
   "metadata": {},
   "outputs": [],
   "source": [
    "package my.util;\n",
    "\n",
    "public class Pair {\n",
    "    protected int first;\n",
    "    protected int second;\n",
    "    \n",
    "    public Pair(int first, int second) {\n",
    "        this.first = first;\n",
    "        this.second = second;\n",
    "        System.out.println(\"Pair constructor called\");\n",
    "    }\n",
    "    \n",
    "    public int getFirst() {\n",
    "        return first;\n",
    "    }\n",
    "    \n",
    "    public int getSecond() {\n",
    "        return second;\n",
    "    }\n",
    "    \n",
    "    public void setPair(int first, int second) {\n",
    "        this.first = first;\n",
    "        this.second = second;\n",
    "    }\n",
    "    \n",
    "    public void print() {\n",
    "        System.out.println(\"(\" + first + \", \" + second + \")\");\n",
    "    }\n",
    "}"
   ]
  },
  {
   "cell_type": "markdown",
   "metadata": {},
   "source": [
    "คลาส `SwappablePair` สืบทอดจาก `Pair` และมีการใช้งานตัวแปร `first` และ `second` ของ `Pair` โดยตรงในเมทอด `swap` โดยเราให้คลาส `SwappablePair` อยู่คนละแพกเกจกับคลาส `Pair` แต่สืบทอดจากคลาส `Pair` โดยการ `import` เข้ามา"
   ]
  },
  {
   "cell_type": "code",
   "execution_count": null,
   "metadata": {},
   "outputs": [],
   "source": [
    "import my.util.Pair;\n",
    "\n",
    "public class SwappablePair extends Pair {\n",
    "    public SwappablePair(int first, int second) {\n",
    "        super(first, second);\n",
    "        System.out.println(\"SwappablePair constructor called\");\n",
    "    }\n",
    "    \n",
    "    public void swap() {\n",
    "        int temp = first;\n",
    "        first = second;\n",
    "        second = temp;\n",
    "    }\n",
    "}"
   ]
  },
  {
   "cell_type": "markdown",
   "metadata": {},
   "source": [
    "เมื่อลองทดสอบการใช้งานทั้ง 2 คลาสในคลาส `PairUser` ซึ่งกำหนดให้อยู่คนละแพกเกจกับคลาส `Pair` แต่อยู่ในแพกเกจเดียวกันกับคลาส `SwappablePair`"
   ]
  },
  {
   "cell_type": "code",
   "execution_count": null,
   "metadata": {},
   "outputs": [],
   "source": [
    "import my.util.Pair;\n",
    "\n",
    "class PairUser {\n",
    "    public static void main(String[] args) {\n",
    "        Pair a = new Pair(1, 2);\n",
    "        SwappablePair b = new SwappablePair(3, 4);\n",
    "\n",
    "        System.out.println(a.first + a.second); // OK if in the same package as Pair, ERROR otherwise\n",
    "        System.out.println(b.first + b.second); // OK if in the same package as Pair, ERROR otherwise\n",
    "\n",
    "        b.swap(); // OK\n",
    "        b.print(); // OK\n",
    "    }\n",
    "}"
   ]
  },
  {
   "cell_type": "markdown",
   "metadata": {},
   "source": [
    "คลาส `PairUser` นี้จะคอมไพล์ไม่ผ่าน เราจะพบว่าคลาส `PairUser` ไม่สามารถเข้าถึงตัวแปร `first` และ `second` ทั้งของคลาส `Pair` เองและที่คลาส `SwappablePair` สืบทอดมาได้ ในขณะที่คลาส `SwappablePair` สามารถเข้าถึงทั้ง 2 ตัวแปรนี้ในเมทอด `swap` ได้\n",
    "\n",
    "คลาส `PairUser` ไม่ได้อยู่ในแพกเกจเดียวกันกับคลาส `Pair` และไม่ได้สืบทอดมาจาก `Pair` ด้วย ดังนั้นจึงไม่สามารถเข้าถึงสมาชิกของคลาส `Pair` ที่กำหนดเป็น `protected` ได้ ในทางกลับกัน ถึงแม้ว่าคลาส `SwappablePair` จะไม่ได้อยู่ในแพกเกจเดียวกันกับ `Pair` แต่ก็สืบทอดมาจาก `Pair` จึงทำให้ `SwappablePair` สามารถเข้าถึงสมาชิกระดับคุ้มครองของ `Pair` ได้ ในตัวอย่างนี้ `PairUser` สามารถสลับค่าของ `first` กับ `second` ผ่านเมทอด `swap` ของคลาส `SwappablePair` ได้ แต่ไม่สามารถเข้าไปจัดการกับตัวแปรทั้งสองนี้โดยตรงได้\n",
    "\n",
    "ถ้า `PairUser` อยู่ในแพกเกจเดียวกันกับ `Pair` การเข้าถึงสมาชิกระดับคุ้มครองจะสามารถทำได้โดยตรงและจะไม่เกิดปัญหาตอนคอมไพล์\n",
    "\n",
    "## คอนสตรักเตอร์ในซับคลาส\n",
    "\n",
    "คอนสตรักเตอร์เป็นเมทอดพิเศษสำหรับการกำหนดสถานะเริ่มต้นให้กับอ็อบเจกต์ใหม่ การทำงานของคอนสตรักเตอร์เป็นการทำงานที่เฉพาะเจาะจงและใกล้ชิดกับลักษณะเฉพาะของแต่ละคลาส คอนสตรักเตอร์จึงไม่สืบทอดต่อไปยังซับคลาส\n",
    "\n",
    "อย่างไรก็ดี ซับคลาสก็สามารถกำหนดคอนสตรักเตอร์ของตัวเองขึ้นมาได้ โดยคอนสตรักเตอร์ของซับคลาสจะเรียกคอนสตรักเตอร์ของซูเปอร์คลาสเป็นคำสั่งแรกก่อนการทำอย่างอื่นเสมอ การเรียกคอนสตรักเตอร์ของซูเปอร์คลาสสามารถทำได้โดยตรงโดยการเรียก `super` ซึ่งถือเป็นตัวแทนของซูเปอร์คลาส\n",
    "\n",
    "ในกรณีที่คอนสตรักเตอร์ของซับคลาสไม่มีการเรียกคอนสตรักเตอร์ของซูเปอร์คลาส (โดยการเรียก `super`) Java จะเรียกคอนสตรักเตอร์โดยปริยาย (default constructor) หรือคอนสตรักเตอร์ที่ไม่มีพารามิเตอร์ของซูเปอร์คลาสให้โดยอัตโนมัติ แต่ถ้าซูเปอร์คลาสไม่มีคอนสตรักเตอร์โดยปริยายหรือคอนสตรักเตอร์ที่ไม่มีพารามิเตอร์ คอมไพเลอร์จะแจ้งข้อผิดพลาดเมื่อคอมไพล์ซับคลาส\n",
    "\n",
    "จากตัวอย่างคลาส `Pair` และ `SwappablePair` ก่อนหน้านี้ เราจะเห็นคอนสตรักเตอร์ของ `SwappablePair` เรียกคอนสตรักเตอร์ของ `Pair` ซึ่งเป็นซูเปอร์คลาสด้วยคำสั่ง `super(first, second)` โดย `super` เป็นตัวอ้างอิงคอนสตรักเตอร์ของซูเปอร์คลาส และส่ง `first` กับ `second` เข้าไปเป็นอาร์กิวเมนต์\n",
    "\n",
    "ถ้าเราพยายามสืบทอดจากคลาส `Pair` โดยที่ซับคลาสไม่มีคอนสตรักเตอร์ จะเกิดปัญหาทันที"
   ]
  },
  {
   "cell_type": "code",
   "execution_count": 17,
   "metadata": {},
   "outputs": [],
   "source": [
    "// Version 1\n",
    "public class ResettablePair extends Pair {\n",
    "    public void reset() {\n",
    "        first = 0;\n",
    "        second = 0;\n",
    "    }\n",
    "}"
   ]
  },
  {
   "cell_type": "markdown",
   "metadata": {},
   "source": [
    "คลาส `ResettablePair` สืบทอดจากคลาส `Pair` โดยที่ไม่ได้กำหนดคอนสตรักเตอร์ของตัวเอง ในกรณีนี้ Java จะสร้างคอนสตรักเตอร์โดยปริยายให้ โดยคอนสตรักเตอร์ที่สร้างขึ้นให้โดยปริยายของ `ResettablePair` นี้จะไปเรียกคอนสตรักเตอร์โดยปริยายหรือคอนสตรักเตอร์ที่ไม่มีพารามิเตอร์ของ `Pair` อีกที แต่เนื่องจาก `Pair` มีคอนสตรักเตอร์อยู่แล้วจึงไม่มีคอนสตรักเตอร์โดยปริยาย และคอนสตรักเตอร์ที่ `Pair` มีก็ต้องการพารามิเตอร์ คอนสตรักเตอร์ของ `ResettablePair` จึงไม่สามารถหาคอนสตรักเตอร์ของ `Pair` ที่ตรงตามเงื่อนไขได้ ทำให้โค้ดด้านบนนี้ไม่สามารถคอมไพล์ได้\n",
    "\n",
    "ถ้าเราลองเพิ่มคอนสตรักเตอร์ให้กับ `ResettablePair`"
   ]
  },
  {
   "cell_type": "code",
   "execution_count": 16,
   "metadata": {},
   "outputs": [],
   "source": [
    "// Version 2\n",
    "public class ResettablePair extends Pair {\n",
    "    public ResettablePair() {\n",
    "        System.out.println(\"ResettablePair constructor called\");\n",
    "    }\n",
    "\n",
    "    public void reset() {\n",
    "        first = 0;\n",
    "        second = 0;\n",
    "    }\n",
    "}"
   ]
  },
  {
   "cell_type": "markdown",
   "metadata": {},
   "source": [
    "โค้ดนี้ก็ยังคอมไพล์ไม่ผ่าน เพราะคอนสตรักเตอร์นี้ไม่ได้ระบุให้เรียกคอนสตรักเตอร์ของ `Pair` ซึ่ง Java ก็จะพยายามเรียกคอนสตรักเตอร์โดยปริยายหรือคอนสตรักเตอร์ที่ไม่มีพารามิเตอร์ของ `Pair` อีกอยู่ดี\n",
    "\n",
    "เราสามารถแก้ไขปัญหานี้ได้ 2 แนวทาง แนวทางแรกคือการให้ `ResettablePair` เรียกคอนสตรักเตอร์ที่มีอยู่จริงของ `Pair` ดังนี้"
   ]
  },
  {
   "cell_type": "code",
   "execution_count": 14,
   "metadata": {},
   "outputs": [],
   "source": [
    "// Version 3\n",
    "public class ResettablePair extends Pair {\n",
    "    public ResettablePair() {\n",
    "        super(0, 0); // super must be called before other statements\n",
    "        System.out.println(\"ResettablePair constructor called\");\n",
    "    }\n",
    "\n",
    "    public void reset() {\n",
    "        first = 0;\n",
    "        second = 0;\n",
    "    }\n",
    "}"
   ]
  },
  {
   "cell_type": "markdown",
   "metadata": {},
   "source": [
    "อีกแนวทางหนึ่งคือการเพิ่มคอนสตรักเตอร์ที่ไม่มีพารามิเตอร์ให้กับ `Pair`"
   ]
  },
  {
   "cell_type": "code",
   "execution_count": 15,
   "metadata": {},
   "outputs": [],
   "source": [
    "public class Pair {\n",
    "\n",
    "    // ... code omitted\n",
    "    \n",
    "    public Pair() {\n",
    "        this(0, 0);\n",
    "    }\n",
    "    \n",
    "    public Pair(int first, int second) {\n",
    "        this.first = first;\n",
    "        this.second = second;\n",
    "        System.out.println(\"Pair constructor called\");\n",
    "    }\n",
    "    \n",
    "    // ... code omitted\n",
    "    \n",
    "}"
   ]
  },
  {
   "cell_type": "markdown",
   "metadata": {},
   "source": [
    "ในกรณีนี้เราจะสามารถใช้ `ResettablePair` แบบแรกหรือแบบที่สองได้เลยเนื่องจาก `Pair` มีคอนสตรักเตอร์ที่ไม่มีพารามิเตอร์แล้ว การเรียกคอนสตรักเตอร์ของซูเปอร์คลาสโดยอัตโนมัติจึงสามารถทำได้\n",
    "\n",
    "## การโอเวอร์ไรด์เมทอดของซูเปอร์คลาส\n",
    "\n",
    "บ่อยครั้งที่เมทอดที่ซับคลาสสืบทอดมาจากซูเปอร์คลาสไม่ได้มีพฤติกรรมการทำงานตรงตามความต้องการของซับคลาส ในกรณีนี้เราสามารถเปลี่ยนแปลงพฤติกรรมของเมทอดนั้น ๆ ให้เป็นไปตามที่เราต้องการได้ด้วยการโอเวอร์ไรด์ (override) เมทอดนั้น\n",
    "\n",
    "กลับมาที่ตัวอย่าง `Employee` กันอีกครั้ง คราวนี้เราจะแยกพนักงานออกเป็น 2 ประเภท ได้แก่ พนักงานทั่วไป (employee) ซึ่งรับเงินเดือนตามปกติและพนักงานขาย (sales employee) ซึ่งรับเงินเป็นเงินเดือนรวมกับค่าคอมมิชชันซึ่งเป็นส่วนแบ่งร้อยละของยอดขายที่ทำให้กับบริษัท\n",
    "\n",
    "โค้ดของคลาส `Employee` เป็นดังนี้"
   ]
  },
  {
   "cell_type": "code",
   "execution_count": 3,
   "metadata": {},
   "outputs": [],
   "source": [
    "public class Employee {\n",
    "    private String name;\n",
    "    private double salary;\n",
    "    private final int id;\n",
    "    private static int lastId = 1000;\n",
    "    \n",
    "    public static final double SALARY_STEP_SIZE = 10.0;\n",
    "    \n",
    "    public Employee(String name, double salary) {\n",
    "        this.name = name;\n",
    "        this.salary = computeNextSalaryStep(salary);\n",
    "        id = ++lastId;\n",
    "    }\n",
    "    \n",
    "    public String getName() {\n",
    "        return name;\n",
    "    }\n",
    "    \n",
    "    public int getId() {\n",
    "        return id;\n",
    "    }\n",
    "\n",
    "    private static double computeNextSalaryStep(double salary) {\n",
    "        // Round to the next salary step\n",
    "        double steps = Math.ceil(salary / SALARY_STEP_SIZE);\n",
    "        return steps * SALARY_STEP_SIZE;\n",
    "    }\n",
    "    \n",
    "    public void raiseSalary(double percent) {\n",
    "        double raise = salary * percent / 100.0;\n",
    "        salary = computeNextSalaryStep(salary + raise);\n",
    "    }\n",
    "    \n",
    "    public double getEarnings() {\n",
    "        return salary;\n",
    "    }\n",
    "    \n",
    "    public void printProfile() {\n",
    "        System.out.printf(\"Name: %s%n\", getName());\n",
    "        System.out.printf(\"ID: %d%n\", getId());\n",
    "        System.out.printf(\"Salary: %.2f%n\", getEarnings());\n",
    "    }\n",
    "}"
   ]
  },
  {
   "cell_type": "markdown",
   "metadata": {},
   "source": [
    "ส่วนที่เราจะให้ความสำคัญในโค้ดด้านบนนี้คือตัวคอนสตรักเตอร์ เมทอด `getEarnings` ซึ่งคืนค่าเป็นรายรับของพนักงานคนนี้ (ในที่นี้คือเงินเดือน) และเมทอด `printProfile` ซึ่งแสดงข้อมูลของพนักงานรวมทั้งเงินเดือน\n",
    "\n",
    "คลาส `SalesEmployee` สืบทอดจากคลาส `Employee` โดยมีลักษณะที่เพิ่มเติมคือมียอดขายรวมของเดือน (gross monthly sales) แทนด้วยตัวแปร `grossSales` และอัตราผลตอบแทนคอมมิชชัน (commission rate) แทนด้วยตัวแปร `commissionRate`\n",
    "\n",
    "คอนสตรักเตอร์ของ `SalesEmployee` \n",
    "เมทอด `getEarnings` ที่สืบทอดมาจาก `Employee` ไม่สามารถใช้ได้ใน `SalesEmployee`"
   ]
  },
  {
   "cell_type": "code",
   "execution_count": 4,
   "metadata": {},
   "outputs": [],
   "source": [
    "public class SalesEmployee extends Employee {\n",
    "    private double grossSales;\n",
    "    private double commissionRate;\n",
    "    \n",
    "    public SalesEmployee(String name, double salary, double grossSales, double commissionRate) {\n",
    "        super(name, salary);\n",
    "        this.grossSales = grossSales;\n",
    "        this.commissionRate = commissionRate;\n",
    "    }\n",
    "\n",
    "    @Override\n",
    "    public double getEarnings() {\n",
    "        return super.getEarnings() + grossSales * commissionRate;\n",
    "    }\n",
    "    \n",
    "    @Override\n",
    "    public void printProfile() {\n",
    "        System.out.printf(\"Name: %s%n\", getName());\n",
    "        System.out.printf(\"ID: %d%n\", getId());\n",
    "        System.out.printf(\"Current Earnings: %.2f%n\", getEarnings());\n",
    "    }\n",
    "}"
   ]
  },
  {
   "cell_type": "markdown",
   "metadata": {},
   "source": []
  },
  {
   "cell_type": "code",
   "execution_count": 5,
   "metadata": {},
   "outputs": [
    {
     "name": "stdout",
     "output_type": "stream",
     "text": [
      "Name: George\n",
      "ID: 1001\n",
      "Salary: 15000.00\n",
      "Name: Sarah\n",
      "ID: 1002\n",
      "Current Earnings: 312000.00\n"
     ]
    }
   ],
   "source": [
    "Employee george = new Employee(\"George\", 15_000.00);\n",
    "SalesEmployee sarah = new SalesEmployee(\"Sarah\", 12_000.00, 120_000.00, 2.5);\n",
    "george.printProfile();\n",
    "sarah.printProfile();"
   ]
  },
  {
   "cell_type": "markdown",
   "metadata": {},
   "source": [
    "เราไม่สามารถโอเวอร์ไรด์คอนสตรักเตอร์ได้เนื่องจากคอนสตรักเตอร์ไม่มีการสืบทอด\n",
    "\n",
    "### การโอเวอร์โหลดกับการโอเวอร์ไรด์\n",
    "\n",
    "การโอเวอร์ไรด์เมทอดที่เราเพิ่งกล่าวถึงเป็นคนละเรื่องกับการโอเวอร์โหลดเมทอด แต่มักจะสร้างความสับสนให้กับผู้ที่ยังไม่คุ้นเคยกับแนวคิดทั้งสองนี้\n",
    "\n",
    "## คลาส Object\n",
    "\n",
    "คลาสทุกคลาสมีคลาส `Object` เป็นซูเปอร์คลาส ไม่ว่าจะทางตรงหรือทางอ้อม\n",
    "\n",
    "คลาส `Object` อยู่ในแพกเกจ `java.lang`\n",
    "\n",
    "## ข้อควรระวังในการสืบทอด\n",
    "\n",
    "เราอาจจะมองว่าการสืบทอดทำให้เราสามารถนำโค้ดมาใช้ซ้ำ (reuse) ได้ มุมมองนี้เป็นมุมมองที่ต้องระมัดระวัง การสืบทอดทำให้เราสามารถนำโค้ดมาใช้ซ้ำได้จริง แต่ก็ควรเป็นการใช้ซ้ำเนื่องจากซับคลาสมีความสัมพันธ์เชิงความหมายกับซูเปอร์คลาสจริง ๆ เช่น คลาส `SalariedEmployee` กับคลาส `Employee` หรือคลาส `Circle` กับคลาส `Shape2D` ซึ่งเรามองได้ว่า พนักงานเงืนเดือน (salaried employee) ถือเป็นพนักงาน (employee) ประเภทหนึ่ง หรือวงกลม (circle) จัดเป็นรูปร่าง 2 มิติ (2D shape) ประเภทหนึ่ง การนำโค้ดมาใช้ซ้ำผ่านการสืบทอดโดยที่คลาสที่สืบทอดกันไม่มีความสัมพันธ์เชิงความหมายต่อกันจะทำให้คลาสที่สืบทอดรับเอาภาระในส่วนของโค้ดที่ไม่เกี่ยวข้องกับตนมาด้วย\n",
    "\n",
    "ตัวอย่างนี้เป็นตัวอย่างของการใช้การสืบทอดอย่างไม่เหมาะสมโดยตั้งใจจะนำโค้ดบางส่วนมาใช้ซ้ำ โดย `Point2D` เป็นคลาสแทนจุดในระนาบ 2 มิติ"
   ]
  },
  {
   "cell_type": "code",
   "execution_count": 5,
   "metadata": {},
   "outputs": [],
   "source": [
    "public class Point2D {\n",
    "    protected double x;\n",
    "    protected double y;\n",
    "    \n",
    "    public Point2D(double x, double y) {\n",
    "        this.x = x;\n",
    "        this.y = y;\n",
    "    }\n",
    "    \n",
    "    public double getX() {\n",
    "        return x;\n",
    "    }\n",
    "    \n",
    "    public double getY() {\n",
    "        return y;\n",
    "    }\n",
    "    \n",
    "    public double distance(Point2D p) {\n",
    "        System.out.println(\"distance() called on Point2D.\");\n",
    "        double dx = p.x - x;\n",
    "        double dy = p.y - y;\n",
    "        return Math.sqrt(dx*dx + dy*dy);\n",
    "    }\n",
    "}"
   ]
  },
  {
   "cell_type": "markdown",
   "metadata": {},
   "source": [
    "และมี `Point3D` เป็นคลาสแทนจุดในปริภูมิ 3 มิติโดยสืบทอดจาก `Point2D`"
   ]
  },
  {
   "cell_type": "code",
   "execution_count": 6,
   "metadata": {},
   "outputs": [],
   "source": [
    "public class Point3D extends Point2D {\n",
    "    protected double z;\n",
    "    \n",
    "    public Point3D(double x, double y, double z) {\n",
    "        super(x, y);\n",
    "        this.z = z;\n",
    "    }\n",
    "\n",
    "    public double getZ() {\n",
    "        return z;\n",
    "    }\n",
    "    \n",
    "    public double distance(Point3D p) {\n",
    "        System.out.println(\"distance() called on Point3D.\");\n",
    "        double dx = p.x - x;\n",
    "        double dy = p.y - y;\n",
    "        double dz = p.z - z;\n",
    "        return Math.sqrt(dx*dx + dy*dy + dz*dz);\n",
    "    }\n",
    "}"
   ]
  },
  {
   "cell_type": "markdown",
   "metadata": {},
   "source": [
    "ในตัวอย่างนี้ `Point3D` สืบทอด `x`, `y`, `getX`, `getY` และ `distance` มาจาก `Point2D` และกำหนด `distance` อีกตัวสำหรับ `Point3D` ขึ้นใหม่เองโดยการโอเวอร์โหลด (ไม่ได้โอเวอร์ไรด์ `distance` เดิมของ `Point2D`)\n",
    "\n",
    "โค้ดนี้มีปัญหาใหญ่อยู่ 2 ประการ ประการแรกคือการนำโค้ดมาใช้ซ้ำอย่างไม่เหมาะสม และประการที่สองคือการขึ้นต่อกัน (dependency) ของคลาส `Point3D` ต่อลักษณะภายในของคลาส `Point2D`\n",
    "\n",
    "ปัญหาแรกเกิดจากการที่คลาส `Point3D` สืบทอดคลาส `Point2D` โดยไม่มีความสัมพันธ์กันในเชิงความหมายที่เหมาะสม เราไม่สามารถพูดได้ว่าจุด 3 มิติ (3D point) นับเป็นจุด 2 มิติ (2D point) ประเภทหนึ่ง จุดทั้งสองประเภทอยู่ในปริภูมิต่างมิติกันและไม่สามารถนำมาใช้งานร่วมกันได้ การสืบทอดเพียงเพราะต้องการใช้โค้ดซ้ำ ถึงแม้ว่าเราจะได้ `x`, `y`, `getX` และ `getY` มาโดยไม่ต้องเขียนใหม่ แต่เราก็ได้ `distance` แบบที่เราไม่ต้องการติดมาด้วย\n",
    "\n",
    "พิจารณาตัวอย่างการใช้งานนี้"
   ]
  },
  {
   "cell_type": "code",
   "execution_count": 7,
   "metadata": {},
   "outputs": [
    {
     "name": "stdout",
     "output_type": "stream",
     "text": [
      "distance() called on Point3D.\n",
      "p1->p2: 8.34\n",
      "distance() called on Point2D.\n",
      "p1->p3: 7.02\n"
     ]
    }
   ],
   "source": [
    "Point3D p1 = new Point3D(1.0, 2.5, 4.5);\n",
    "Point3D p2 = new Point3D(8.0, 2.0, 0.0);\n",
    "Point2D p3 = new Point2D(8.0, 2.0);\n",
    "System.out.printf(\"p1->p2: %.2f%n\", p1.distance(p2));\n",
    "System.out.printf(\"p1->p3: %.2f%n\", p1.distance(p3));"
   ]
  },
  {
   "cell_type": "markdown",
   "metadata": {},
   "source": [
    "`p1` และ `p2` เป็น `Point3D` ส่วน `p3` เป็น `Point2D` เมทอด `distance` ใช้คำนวณระยะห่างระหว่างตัวมันเองกับจุดอีกจุดหนึ่ง `p1.distance(p2)` เป็นการหาระยะห่างระหว่าง `p1` และ `p2` ซึ่งเป็น `Point3D` ทั้งคู่ โดยเมทอด `distance` ที่ถูกเรียกใช้เป็น `distance` ที่สร้างขึ้นใหม่ใน `Point3D` และรับ `Point3D` เป็นพารามิเตอร์\n",
    "\n",
    "แต่ปัญหาอยู่ที่การเรียก `p1.distance(p3)` ซึ่งไม่ควรจะเกิดขึ้นได้ เนื่องจาก `p1` เป็น `Point3D` แต่ `p3` เป็น `Point2D` ซึ่งเป็นจุดต่างปริภูมิกันและไม่ควรจะหาระยะห่างต่อกันได้ แต่มันเกิดขึ้นได้เนื่องจากการเรียกใช้ `distance` ในกรณีนี้เป็นการเรียก `distance` ของ `Point2D` ที่รับ `Point2D` เป็นพารามิเตอร์แต่ `Point3D` สืบทอดมา\n",
    "\n",
    "พูดได้ว่า `Point3D` รับเอาภาระในส่วนของโค้ดที่ไม่เกี่ยวข้องกับตัวเองมาด้วย และทำให้ `Point3D` มีเมทอดที่ไม่ควรถูกใช้งานเกิดขึ้น เป็นภาระทางเทคนิคแบบหนึ่งที่อาจจะนำไปสู่ปัญหาในการใช้งานและการดูแลรักษาโค้ดต่อไปในอนาคต\n",
    "\n",
    "ปัญหานี้จัดการได้ด้วยการไม่สืบทอดเพียงเพราะต้องการใช้โค้ดซ้ำ คลาสที่จะสืบทอดกันควรจะมีความสัมพันธ์เชิงความหมายต่อกัน ซึ่งจะทำให้ทุกอย่างที่สืบทอดไปจากซูเปอร์คลาสมีความหมายที่เหมาะสมในซับคลาสด้วย การทดสอบความสัมพันธ์เชิงความหมายแบบง่าย ๆ สามารถทำได้โดยการตั้งคำถามว่า \"ซับคลาส\" นี้ ถือเป็น \"ซูเปอร์คลาส\" ประเภทหนึ่งหรือไม่ เช่น วงกลมถือเป็นรูปร่าง 2 มิติประเภทหนึ่ง ดังนั้น `Circle` จึงเป็นซับคลาสที่เหมาะสมของ `Shape2D` แต่จุด 3 มิติไม่ถือว่าเป็นจุด 2 มิติประเภทหนึ่ง `Point3D` จึงไม่ใช่ซับคลาสที่เหมาะสมของ `Point2D`\n",
    "\n",
    "เราเรียกลักษณะความสัมพันธ์แบบนี้ว่าความสัมพันธ์แบบ is-a โดยในการสืบทอดที่เหมาะสม ซับคลาสควรจะมีความสัมพันธ์แบบ is-a กับซูเปอร์คลาส\n",
    "\n",
    "ในทางกลับกันเราอาจจะจัดการกับปัญหานี้โดยการใช้การประกอบขึ้น (composition) แทนการสืบทอดได้เช่นกัน เราจะกล่าวถึงความสัมพันธ์แบบ is-a และการประกอบขึ้นอีกครั้งในเรื่องการมีหลายรูปแบบ (polymorphism)\n",
    "\n",
    "แน่นอนว่าตัวอย่างนี้เป็นตัวอย่างที่ง่ายเกินไปเมื่อเทียบกับการเขียนโปรแกรมในชีวิตจริง เราอาจจะไม่รู้สึกว่าต้องใช้โค้ดซ้ำสำหรับโค้ดที่มีขนาดเล็กแค่นี้ด้วยซ้ำ แต่ปัญหาแบบเดียวกันสามารถเกิดได้ในโค้ดที่ซับซ้อนกว่านี้ และปัญหาที่เกิดขึ้นมักจะยุ่งยากกว่านี้ด้วย\n",
    "\n",
    "สำหรับปัญหาที่สอง การสืบทอดถือเป็นการทำให้เกิดลักษณะการขึ้นต่อกันระหว่างคลาสทั้งสองด้วย เมื่อใดที่เกิดการเปลี่ยนแปลงของโค้ดในซูเปอร์คลาส การเปลี่ยนแปลงนั้นอาจจะส่งผลกระทบต่อการทำงานของซับคลาสได้ โดยเฉพาะอย่างยิ่งการใช้ระดับการเข้าถึงแบบคุ้มครอง ตัวแปรที่ประกาศเป็น `protected` สามารถเข้าถึงโดยซับคลาสได้ แต่การทำเช่นนั้นทำให้ซับคลาสไปขึ้นต่อลักษณะภายในของซูเปอร์คลาสและทำให้การเปลี่ยนแปลงภายในในอนาคตทำได้ยากขึ้น\n",
    "\n",
    "จากตัวอย่าง `Point2D` เราประกาศ `x` และ `y` ให้เป็น `protected` และ `Point3D` นำ `x` และ `y` ไปใช้งานโดยตรง ถ้าในภายหลังเราต้องการเปลี่ยนการแทนค่าภายใน `Point2D` จากการใช้ `x` และ `y` เป็นการใช้อาร์เรย์ 2 มิติ `position` แทน ดังโค้ดต่อไปนี้"
   ]
  },
  {
   "cell_type": "code",
   "execution_count": 20,
   "metadata": {},
   "outputs": [],
   "source": [
    "public class Point2D {\n",
    "    protected double position[] = new double[2];\n",
    "    \n",
    "    public Point2D(double x, double y) {\n",
    "        position[0] = x;\n",
    "        position[1] = y;\n",
    "    }\n",
    "    \n",
    "    public double getX() {\n",
    "        return position[0];\n",
    "    }\n",
    "    \n",
    "    public double getY() {\n",
    "        return position[1];\n",
    "    }\n",
    "    \n",
    "    public double distance(Point2D p) {\n",
    "        System.out.println(\"distance() called on Point2D.\");\n",
    "        double dx = p.position[0] - position[0];\n",
    "        double dy = p.position[1] - position[1];\n",
    "        return Math.sqrt(dx*dx + dy*dy);\n",
    "    }\n",
    "}"
   ]
  },
  {
   "cell_type": "markdown",
   "metadata": {},
   "source": [
    "คลาส `Point2D` แบบใหม่นี้จะทำให้คลาส `Point3D` คอมไพล์ไม่ได้ทันที เนื่องจาก `Point3D` ไปขึ้นตรงต่อตัวแปรภายในของ `Point2D` เราเรียกคลาสที่มีปัญหาแบบเดียวกับ `Point2D` นี้ว่าซูเปอร์คลาสเปราะบาง (fragile superclass หรือ brittle superclass) เนื่องจากการเปลี่ยนแปลงภายในตัวซูเปอร์คลาสอาจส่งผลไปสู่การทำงานที่ผิดพลาดของซับคลาสได้\n",
    "\n",
    "การใช้ระดับการเข้าถึงแบบคุ้มครองจึงควรใช้อย่างระมัดระวัง ถ้าเป็นการใช้ภายในแพกเกจเดียวกันซึ่งเราเป็นผู้พัฒนาเองก็อาจจะไม่สร้างปัญหานัก แต่ถ้ามีการนำคลาสไปสืบทอดในแพกเกจอื่นซึ่งอยู่นอกเหนือการควบคุมของเราแล้ว การเปิดให้เข้าถึงได้ผ่านตัวกำหนด `protected` จะเป็นการสร้างภาระการขึ้นต่อกันที่ทำให้เราเปลี่ยนแปลงโค้ดของเราเองในอนาคตได้ยากขึ้น ดังนั้นการใช้งานตัวกำหนด `protected` ในการประกาศตัวแปรจึงควรใช้เท่าที่จำเป็น และใช้การกำหนดการเข้าถึงแบบส่วนตัวแทน โดยใช้เมทอดตัวเปลี่ยนแปลงค่าและตัวเข้าถึงค่าที่เป็นสาธารณะในการเข้าถึง"
   ]
  }
 ],
 "metadata": {
  "kernelspec": {
   "display_name": "Java",
   "language": "java",
   "name": "java"
  },
  "language_info": {
   "codemirror_mode": "java",
   "file_extension": ".java",
   "mimetype": "text/x-java-source",
   "name": "Java",
   "pygments_lexer": "java",
   "version": "9.0.4+11"
  }
 },
 "nbformat": 4,
 "nbformat_minor": 2
}
