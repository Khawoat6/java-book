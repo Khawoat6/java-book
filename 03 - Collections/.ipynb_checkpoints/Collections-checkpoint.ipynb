{
 "cells": [
  {
   "cell_type": "code",
   "execution_count": null,
   "metadata": {},
   "outputs": [],
   "source": [
    "คลาสสตริงมีเมทอดที่เกี่ยวข้องกับการจัดการสตริงอีกหลายเมทอดให้ใช้ เมทอดที่สำคัญ ๆ มีดังนี้"
   ]
  }
 ],
 "metadata": {
  "kernelspec": {
   "display_name": "Java",
   "language": "java",
   "name": "java"
  },
  "language_info": {
   "name": ""
  }
 },
 "nbformat": 4,
 "nbformat_minor": 2
}
