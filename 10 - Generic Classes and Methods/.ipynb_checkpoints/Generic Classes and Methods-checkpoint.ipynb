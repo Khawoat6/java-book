{
 "cells": [
  {
   "cell_type": "markdown",
   "metadata": {},
   "source": [
    "# คลาสและเมทอดเจเนอริก\n",
    "\n",
    "พิจารณาตัวอย่างคลาส `Pair` ซึ่งเราสร้างขึ้นเพื่อเก็บข้อมูลที่เป็นคู่อีกครั้ง"
   ]
  },
  {
   "cell_type": "code",
   "execution_count": 1,
   "metadata": {},
   "outputs": [],
   "source": [
    "public class Pair {\n",
    "    private int first;\n",
    "    private int second;\n",
    "\n",
    "    public Pair(int first, int second) {\n",
    "        this.first = first;\n",
    "        this.second = second;\n",
    "    }\n",
    "    \n",
    "    public int getFirst() {\n",
    "        return first;\n",
    "    }\n",
    "    \n",
    "    public int getSecond() {\n",
    "        return second;\n",
    "    }\n",
    "    \n",
    "    public void swap() {\n",
    "        int temp = first;\n",
    "        first = second;\n",
    "        second = temp;\n",
    "    }\n",
    "    \n",
    "    @Override\n",
    "    public String toString() {\n",
    "        return \"(\" + first + \", \" + second + \")\";\n",
    "    }\n",
    "}"
   ]
  },
  {
   "cell_type": "markdown",
   "metadata": {},
   "source": [
    "`Pair` ในตัวอย่างนี้ใช้ได้กับข้อมูลชนิด `int` เท่านั้น ถ้าเราต้องการคลาส `Pair` สำหรับข้อมูลชนิดอื่น เราอาจจะต้องสร้างคลาสใหม่สำหรับข้อมูลชนิดนั้นขึ้นมา เช่น ถ้าต้องการ `Pair` สำหรับข้อมูลชนิด `double` เราอาจจะต้องสร้างคลาสใหม่แบบนี้"
   ]
  },
  {
   "cell_type": "code",
   "execution_count": 3,
   "metadata": {},
   "outputs": [],
   "source": [
    "public class DoublePair {\n",
    "    private double first;\n",
    "    private double second;\n",
    "\n",
    "    public DoublePair(double first, double second) {\n",
    "        this.first = first;\n",
    "        this.second = second;\n",
    "    }\n",
    "    \n",
    "    public double getFirst() {\n",
    "        return first;\n",
    "    }\n",
    "    \n",
    "    public double getSecond() {\n",
    "        return second;\n",
    "    }\n",
    "    \n",
    "    public void swap() {\n",
    "        double temp = first;\n",
    "        first = second;\n",
    "        second = temp;\n",
    "    }\n",
    "    \n",
    "    @Override\n",
    "    public String toString() {\n",
    "        return \"(\" + first + \", \" + second + \")\";\n",
    "    }\n",
    "}"
   ]
  },
  {
   "cell_type": "markdown",
   "metadata": {},
   "source": [
    "เราพบว่าคลาส `DoublePair` กับคลาส `Pair` ไม่มีความแตกต่างกันเลยในแง่ของสาระสำคัญของโค้ด ต่างกันเพียงชนิดข้อมูลที่ประกาศเท่านั้น การต้องเขียนโค้ดซ้ำเพียงเพื่อให้รองรับชนิดข้อมูลที่ต่างไปเป็นปัญหาที่ทำให้เราเสียเวลามากขึ้นเพื่อทำสิ่งเดิม ๆ และยังเป็นปัญหาในการจัดการดูแลรักษาโค้ดในภายหลังด้วย เพราะถ้าเราต้องการเปลี่ยนแปลงการทำงานบางอย่าง เราต้องแก้ไขหลายคลาสแทนที่จะแก้ไขที่เดียว\n",
    "\n",
    "Java มีเครื่องมือให้เราจัดการกับปัญหานี้ โดยให้เราสามารถกำหนดพารามิเตอร์แทนการระบุชนิดข้อมูลโดยตรงได้ เมื่อเราต้องการใช้คลาสที่เราสร้างขึ้นกับข้อมูลชนิดใด เราสามารถระบุค่าของพารามิเตอร์นี้ให้เป็นข้อมูลชนิดที่เราต้องการได้ พารามิเตอร์นี้เราเรียกว่าพารามิเตอร์ระบุชนิด (type parameter)\n",
    "\n",
    "ตัวอย่างของคลาส `Pair` ที่ใช้พารามิเตอร์ระบุชนิดเป็นดังนี้"
   ]
  },
  {
   "cell_type": "code",
   "execution_count": 4,
   "metadata": {},
   "outputs": [],
   "source": [
    "public class Pair<T> {\n",
    "    private T first;\n",
    "    private T second;\n",
    "\n",
    "    public Pair(T first, T second) {\n",
    "        this.first = first;\n",
    "        this.second = second;\n",
    "    }\n",
    "    \n",
    "    public T getFirst() {\n",
    "        return first;\n",
    "    }\n",
    "    \n",
    "    public T getSecond() {\n",
    "        return second;\n",
    "    }\n",
    "    \n",
    "    public void swap() {\n",
    "        T temp = first;\n",
    "        first = second;\n",
    "        second = temp;\n",
    "    }\n",
    "    \n",
    "    @Override\n",
    "    public String toString() {\n",
    "        return \"(\" + first + \", \" + second + \")\";\n",
    "    }\n",
    "}"
   ]
  },
  {
   "cell_type": "markdown",
   "metadata": {},
   "source": [
    "ในส่วนประกาศคลาส เราประกาศว่า\n",
    "\n",
    "```java\n",
    "public class Pair<T>\n",
    "```\n",
    "\n",
    "ซึ่งเป็นการประกาศให้ T เป็นพารามิเตอร์ระบุชนิด และเมื่อ T ปรากฏในที่ใดในคลาสที่เป็นการประกาศชนิด จะแทน T นั้นด้วยชนิดที่ระบุจริงเวลาใช้งาน\n",
    "\n",
    "คลาส `Pair` ที่ใช้พารามิเตอร์ระบุชนิดนี้ เราเรียกว่า_คลาสเจเนอริก (generic class)_ ซึ่งหมายถึงคลาสที่ไม่เจาะจง สามารถนำไปใช้กับข้อมูลชนิดใดก็ได้\n",
    "\n",
    "เราใช้งานคลาส `Pair` แบบเจเนอริกได้ดังนี้"
   ]
  },
  {
   "cell_type": "code",
   "execution_count": 6,
   "metadata": {},
   "outputs": [
    {
     "name": "stdout",
     "output_type": "stream",
     "text": [
      "p1 = (10, 20)\n",
      "p2 = (5.0, 1.5)\n"
     ]
    }
   ],
   "source": [
    "Pair<Integer> p1 = new Pair<>(10, 20);\n",
    "Pair<Double> p2 = new Pair<>(1.5, 5.0);\n",
    "\n",
    "p2.swap();\n",
    "System.out.println(\"p1 = \" + p1);\n",
    "System.out.println(\"p2 = \" + p2);"
   ]
  },
  {
   "cell_type": "markdown",
   "metadata": {},
   "source": [
    "สังเกตว่าการประกาศชนิดของ `p1` และ `p2` เราจะมีการระบุที่ `Pair` ด้วยว่าเราต้องการนำไปใช้กับข้อมูลชนิดใด เช่น `Pair<Integer>` เมื่อต้องการใช้กับชนิด `Integer` ส่วนในการสร้างอ็อบเจกต์ตั้งต้นด้วยคำสั่ง `new` เราสามารถใช้ diamond operator (`<>`) ได้ทำให้ไม่ต้องระบุชนิดซ้ำอีกรอบ\n",
    "\n",
    "เราเคยพบการใช้งานแบบนี้มาก่อนหน้านี้แล้วใน `ArrayList` ซึ่งมีรูปแบบการใช้งานและการสร้างอ็อบเจกต์ไม่ต่างกัน ทั้ง `Pair` ที่เราเขียนขึ้นและ `ArrayList` ที่มีในไลบรารีมาตรฐานของ Java ต่างก็เป็นคลาสเจเนอริกเหมือนกัน\n",
    "\n",
    "การประกาศ `Pair<Integer>` ก็เหมือนกับเราให้แทนที่ชนิด `T` ภายในคลาสด้วย `Integer` ดังนั้นในเมทอดที่มีการอ้างอิงชนิด `T` เช่นในคอนสตรักเตอร์"
   ]
  },
  {
   "cell_type": "code",
   "execution_count": null,
   "metadata": {},
   "outputs": [],
   "source": [
    "public Pair(T first, T second) {\n",
    "    this.first = first;\n",
    "    this.second = second;\n",
    "}"
   ]
  },
  {
   "cell_type": "markdown",
   "metadata": {},
   "source": [
    "ก็สามารถมองได้เป็น"
   ]
  },
  {
   "cell_type": "code",
   "execution_count": null,
   "metadata": {},
   "outputs": [],
   "source": [
    "public Pair(Integer first, Integer second) {\n",
    "    this.first = first;\n",
    "    this.second = second;\n",
    "}"
   ]
  },
  {
   "cell_type": "markdown",
   "metadata": {},
   "source": [
    "เราสามารถใช้พารามิเตอร์ระบุชนิดมากกว่าหนึ่งตัวได้ ในตัวอย่าง `Pair` เราใช้ `T` ตัวเดียวในการระบุชนิด ซึ่งหมายความว่าชนิดของค่าที่ใส่ใน `Pair` ทั้งคู่ต้องเป็นชนิดเดียวกัน ถ้าเราต้องการให้ `Pair` สามารถใช้กับสองค่าที่ชนิดต่างกันได้ เราก็สามารถใช้พารามิเตอร์ระบุชนิดสองตัวได้ ดังนี้"
   ]
  },
  {
   "cell_type": "code",
   "execution_count": 9,
   "metadata": {},
   "outputs": [],
   "source": [
    "public class Pair<F,S> {\n",
    "    private F first;\n",
    "    private S second;\n",
    "\n",
    "    public Pair(F first, S second) {\n",
    "        this.first = first;\n",
    "        this.second = second;\n",
    "    }\n",
    "    \n",
    "    public F getFirst() {\n",
    "        return first;\n",
    "    }\n",
    "    \n",
    "    public S getSecond() {\n",
    "        return second;\n",
    "    }\n",
    "    \n",
    "    @Override\n",
    "    public String toString() {\n",
    "        return \"(\" + first + \", \" + second + \")\";\n",
    "    }\n",
    "}"
   ]
  },
  {
   "cell_type": "markdown",
   "metadata": {},
   "source": [
    "สำหรับตัวอย่าง `Pair` ที่ใช้พารามิเตอร์ระบุชนิดสองตัวนี้ เราต้องตัดเมทอด `swap()` ออก เนื่องจากเราไม่สามารถสลับค่าที่ชนิดต่างกันได้\n",
    "\n",
    "และเมื่อเราลองใช้ดู โดยให้ `F` เป็น `Integer` และ `S` เป็น `Double` จะได้ผลลัพธ์ดังนี้"
   ]
  },
  {
   "cell_type": "code",
   "execution_count": 10,
   "metadata": {},
   "outputs": [
    {
     "name": "stdout",
     "output_type": "stream",
     "text": [
      "pair = (10, 1.5)\n"
     ]
    }
   ],
   "source": [
    "Pair<Integer,Double> pair = new Pair<>(10, 1.5);\n",
    "\n",
    "System.out.println(\"pair = \" + pair);"
   ]
  },
  {
   "cell_type": "markdown",
   "metadata": {},
   "source": [
    "ตัวอย่าง `Pair` นี้เป็นตัวอย่างการสร้างและใช้งานคลาสเจเนอริกเบื้องต้น เราจะมาทำความเข้าใจกลไกการทำงานเบื้องหลังของคลาสเจเนอริกกัน\n",
    "\n",
    "## คุณสมบัติเจเนอริกและการลบล้างชนิดข้อมูล\n",
    "\n",
    "ข้อสังเกตอย่างหนึ่งของคลาสเจเนอริกและพารามิเตอร์ระบุชนิดคือ เราสามารถใช้ได้เฉพาะชนิดที่เป็นตัวอ้างอิงเท่านั้น เราใช้อ็อบเจกต์หรืออาร์เรย์กับพารามิเตอร์ระบุชนิดได้ แต่เราไม่สามารถใช้ข้อมูลชนิดพื้นฐาน เช่น `int` หรือ `double` โดยตรงได้\n",
    "\n",
    "ตัวอย่างที่ผ่านมาเราจะใช้คลาสหีบห่อ (wrapper class) เช่น `Integer` แทนที่จะใช้ `int` หรือ `Double` แทนที่จะใช้ `double`\n",
    "\n",
    "จุดนี้เป็นข้อจำกัดของคุณสมบัติเจเนอริกใน Java เราไม่สามารถใช้สิ่งที่เป็นเจเนอริกกับข้อมูลชนิดพื้นฐานได้ ต้องเป็นข้อมูลชนิดตัวอ้างอิง เช่น คลาส อาร์เรย์ หรืออีนัม เท่านั้น\n",
    "\n",
    "พิจารณาตัวอย่างคลาส `Pair` แบบที่รับพารามิเตอร์ระบุชนิดแค่ตัวเดียวก่อน กลไกการทำงานในเบื้องหลังของคลาส `Pair` ไม่ว่าเราจะประกาศ `Pair<Integer> p1` หรือ `Pair<Double> p2` ก็ตาม โค้ดที่เกิดขึ้นเบื้องหลังคือโค้ดเดียวกัน ซึ่งมีลักษณะแบบนี้"
   ]
  },
  {
   "cell_type": "code",
   "execution_count": null,
   "metadata": {},
   "outputs": [],
   "source": [
    "public class Pair {\n",
    "    private Object first;\n",
    "    private Object second;\n",
    "\n",
    "    public Pair(Object first, Object second) {\n",
    "        this.first = first;\n",
    "        this.second = second;\n",
    "    }\n",
    "    \n",
    "    public Object getFirst() {\n",
    "        return first;\n",
    "    }\n",
    "    \n",
    "    public Object getSecond() {\n",
    "        return second;\n",
    "    }\n",
    "    \n",
    "    public void swap() {\n",
    "        Object temp = first;\n",
    "        first = second;\n",
    "        second = temp;\n",
    "    }\n",
    "    \n",
    "    @Override\n",
    "    public String toString() {\n",
    "        return \"(\" + first + \", \" + second + \")\";\n",
    "    }\n",
    "}"
   ]
  },
  {
   "cell_type": "markdown",
   "metadata": {},
   "source": [
    "โค้ดที่อยู่เบื้องหลังคลาสเจเนอริกจะแทนที่พารามิเตอร์ระบุชนิดด้วยคลาส `Object` ทั้งหมด ซึ่งด้วยคุณสมบัติโพลีมอร์ฟิซึมทำให้โค้ดเดียวกันนี้สามารถใช้กับข้อมูลชนิดใดก็ได้ตราบเท่าที่เป็นชนิดตัวอ้างอิง เพราะชนิดตัวอ้างอิงทุกชนิดล้วนเป็นซับคลาสของ `Object` ทั้งสิ้น การที่เราไม่สามารถใช้ข้อมูลชนิดพื้นฐานกับคลาสเจเนอริกได้ก็ด้วยเหตุนี้\n",
    "\n",
    "การประกาศ `Pair<Integer>` หรือ `Pair<Double>` ไม่ได้ทำให้เกิดโค้ดเบื้องหลังที่ต่างกัน ทั้งสองแบบต่างก็ใช้คลาส `Pair` แบบที่เป็น `Object` อยู่เบื้องหลังเหมือนกัน เพียงแต่การประกาศ `Pair<Integer>` จะทำให้คอมไพเลอร์มีการตรวจสอบว่าข้อมูลที่นำมาใช้กับ `Pair` เป็นคลาส `Integer` เท่านั้น และจะมีการแปลงชนิดให้โดยอัตโนมัติตามความเหมาะสม\n",
    "\n",
    "เมื่อคอมไพเลอร์ได้คอมไพล์โค้ดไปเป็น bytecode แล้ว ข้อมูลชนิดของคลาส `Pair<Integer>` จะไม่เหลืออีกต่อไป ดังนั้นเมื่อโปรแกรมรัน เราจะไม่สามารถตรวจสอบย้อนหลังได้เลยว่า `Pair` ตัวนี้ถูกประกาศเป็น `Pair<Integer>`\n",
    "\n",
    "ข้อนี้เป็นข้อจำกัดอันหนึ่งของคุณสมบัติเจเนอริกของ Java ซึ่งเราเรียกข้อจำกัดนี้ (หรืออาจมองเป็นคุณสมบัติอันหนึ่ง) ว่า type erasure หรือการลบล้างชนิดข้อมูล ซึ่งหมายถึงข้อมูลของชนิดที่ระบุให้กับพารามิเตอร์ระบุชนิดจะหายไปหลังจากการคอมไพล์แล้ว\n",
    "\n",
    "> **หมายเหตุ** ตัวอย่างนี้เกิดการแทนพารามิเตอร์ระบุชนิดด้วยคลาส `Object` ในกรณีอื่น ๆ อาจมีการแทนด้วยคลาสอื่นได้เช่นกันในกรณีที่มีการกำหนดข้อจำกัดให้กับพารามิเตอร์ระบุชนิด\n",
    "\n",
    "## ชนิดข้อมูลดิบ\n",
    "\n",
    "จากที่เราเห็นว่าคลาส `Pair` ที่เราสร้างขึ้น ไม่ว่าจะนำไปใช้เป็น `Pair<Integer>` หรือ `Pair<Double>` แต่จริง ๆ แล้วชนิดที่ถูกประกาศคือ `Object` นั้น ถ้าเราย้อนกลับไปที่ Java รุ่น 1.0 ซึ่งยังไม่มีคุณสมบัติเจเนอริก คลาสที่เป็นเจเนอริกหลาย ๆ คลาสที่เราใช้อยู่ตอนนี้ก็เป็นคลาสที่ประกาศชนิดข้อมูลให้เป็น `Object` เหมือนกัน\n",
    "\n",
    "ลองพิจารณา `ArrayList` เป็นตัวอย่าง ใน Java 1.0 ไม่มี `ArrayList` แบบที่เป็นเจเนอริก มีแต่แบบที่รับข้อมูลชนิด `Object` ซึ่งทำให้สามารถใช้กับอ็อบเจกต์ชนิดใดก็ได้ รูปแบบการใช้งานจะเป็นลักษณะนี้"
   ]
  },
  {
   "cell_type": "code",
   "execution_count": 12,
   "metadata": {},
   "outputs": [
    {
     "name": "stdout",
     "output_type": "stream",
     "text": [
      "scores: [28.5, 15, John, false]\n"
     ]
    }
   ],
   "source": [
    "ArrayList scores = new ArrayList();\n",
    "\n",
    "scores.add(new Double(28.5));\n",
    "scores.add(new Integer(15));\n",
    "scores.add(\"John\");\n",
    "scores.add(new Boolean(false));\n",
    "System.out.printf(\"scores: %s%n\", scores);\n",
    "\n",
    "Double first = (Double)scores.get(0);\n",
    "Integer second = (Integer)scores.get(1);\n",
    "String third = (String)scores.get(2);\n",
    "Boolean fourth = (Boolean)scores.get(3);"
   ]
  },
  {
   "cell_type": "markdown",
   "metadata": {},
   "source": [
    "การใช้งาน `ArrayList` แบบไม่เจเนอริกจะเห็นว่าเราจะไม่ได้กำหนดว่า `ArrayList` นี้จะใช้กับข้อมูลชนิดใด ทำให้เราสามารถนำคลาสชนิดใดมาใช้ก็ได้ คอมไพเลอร์ไม่สามารถช่วยตรวจสอบความถูกต้องได้ และการใช้งานก็ไม่สะดวกเท่าที่ควร การเรียกข้อมูลด้วยเมทอด `get()` ต้องมีการ cast ชนิดข้อมูลกลับไปด้วย เพราะข้อมูลชนิดที่คืนค่ามาจาก `get()` เป็น `Object` และยังมีความเสี่ยงที่จะ cast ผิดชนิดและทำให้เกิด `ClassCastException` ด้วย\n",
    "\n",
    "แต่การใช้งาน `ArrayList` ในรูปแบบนี้ก็ยังมีอยู่จนถึงปัจจุบัน เราสามารถใช้ `ArrayList` ได้ทั้งในรูปเจเนอริกและในรูปแบบตัวอย่างนี้ การใช้งานแบบตัวอย่างนี้เราเรียกว่าการใช้คลาสนี้แบบ raw type หรือแบบชนิดข้อมูลดิบ\n",
    "\n",
    "การใช้แบบ raw type มีเพื่อให้โปรแกรมที่เขียนขึ้นในรูปแบบเดิมยังคงใช้ได้ใน Java รุ่นปัจจุบัน แต่โปรแกรมที่เขียนใหม่ควรหลีกเลี่ยง เพราะถึงแม้จะเหมือนยืดหยุ่นที่เราสามารถใช้กับข้อมูลชนิดคลาสอะไรก็ได้ผสมกันในตัวเดียว แต่เราจะไม่มีกลไกป้องกันการผิดพลาดของชนิดข้อมูลเลย\n",
    "\n",
    "คลาสที่สร้างเป็นเจเนอริกทุกคลาสจะมีรูปแบบ raw type ให้เรียกใช้ได้โดยอัตโนมัติ คลาส `Pair` ที่เราสร้างขึ้นก็เช่นกัน เราสามารถนำมาใช้ในรูปแบบ raw type ได้ดังนี้"
   ]
  },
  {
   "cell_type": "code",
   "execution_count": 14,
   "metadata": {},
   "outputs": [
    {
     "name": "stdout",
     "output_type": "stream",
     "text": [
      "p3: (10, 1.5)\n"
     ]
    }
   ],
   "source": [
    "Pair p3 = new Pair(10, 1.5);\n",
    "\n",
    "System.out.println(\"p3: \" + p3);"
   ]
  },
  {
   "cell_type": "markdown",
   "metadata": {},
   "source": [
    "คุณสมบัติ autoboxing หรือการสร้างอ็อบเจกต์หีบห่อให้โดยอัตโนมัติซึ่งมีมาตั้งแต่ Java รุ่น 1.5 ทำให้เราใช้คลาสแบบ raw type ได้สะดวกขึ้น แต่การใช้ raw type ก็ยังเป็นสิ่งที่ควรหลีกเลี่ยงอยู่ดี ด้วยความเสี่ยงต่อข้อผิดพลาดด้านชนิดข้อมูลที่อาจเกิดขึ้นได้\n",
    "\n",
    "## เมทอดเจเนอริก\n",
    "\n",
    "เราสร้างคลาสเจเนอริกที่สามารถใช้กับข้อมูลได้หลายรูปแบบแล้ว เราสามารถกำหนดเมทอดให้เป็นเจเนอริกได้เช่นกันโดยที่คลาสของเมทอดนั้นไม่จำเป็นต้องเป็นเจเนอริกด้วย\n",
    "\n",
    "สมมุติว่าเราต้องการสร้างเมทอด `printArray()` ซึ่งสามารถใช้แสดงค่าของข้อมูลในอาร์เรย์ได้หลาย ๆ ชนิด เราอาจจะเริ่มต้นโดยการใช้การโอเวอร์โหลดเมทอดดังนี้"
   ]
  },
  {
   "cell_type": "code",
   "execution_count": 2,
   "metadata": {},
   "outputs": [
    {
     "name": "stdout",
     "output_type": "stream",
     "text": [
      "integerArray contains: \n",
      "1 2 3 4 5 6 \n",
      "doubleArray contains: \n",
      "1.1 2.2 3.3 4.4 5.5 6.6 7.7 \n",
      "characterArray contains: \n",
      "H E L L O \n"
     ]
    }
   ],
   "source": [
    "public class OverloadedMethods {\n",
    "    public static void main(String[] args) {\n",
    "        Integer[] integerArray = { 1, 2, 3, 4, 5, 6 };\n",
    "        Double[] doubleArray = { 1.1, 2.2, 3.3, 4.4, 5.5, 6.6, 7.7 };\n",
    "        Character[] characterArray = { 'H', 'E', 'L', 'L', 'O' };\n",
    "        \n",
    "        System.out.println(\"integerArray contains: \");\n",
    "        printArray(integerArray);\n",
    "        System.out.println(\"doubleArray contains: \");\n",
    "        printArray(doubleArray);\n",
    "        System.out.println(\"characterArray contains: \");\n",
    "        printArray(characterArray);\n",
    "    }\n",
    "    \n",
    "    public static void printArray(Integer[] inputArray) {\n",
    "        for (Integer element : inputArray) {\n",
    "            System.out.printf(\"%s \", element);\n",
    "        }\n",
    "        System.out.println();\n",
    "    }\n",
    "\n",
    "    public static void printArray(Double[] inputArray) {\n",
    "        for (Double element : inputArray) {\n",
    "            System.out.printf(\"%s \", element);\n",
    "        }\n",
    "        System.out.println();\n",
    "    }\n",
    "\n",
    "    public static void printArray(Character[] inputArray) {\n",
    "        for (Character element : inputArray) {\n",
    "            System.out.printf(\"%s \", element);\n",
    "        }\n",
    "        System.out.println();\n",
    "    }\n",
    "}"
   ]
  },
  {
   "cell_type": "markdown",
   "metadata": {},
   "source": [
    "เรามีเมทอดที่โอเวอร์โหลด 3 รูปแบบตามชนิดข้อมูล 3 ชนิดที่เราต้องการจัดการ แต่เมื่อพิจารณาที่โค้ดของแต่ละเมทอด เราจะเห็นว่าโค้ดไม่ได้แตกต่างกันเลย มีเพียงการประกาศชนิดที่ต่างกัน แต่การทำงานอื่น ๆ เหมือนกันทั้งหมด\n",
    "\n",
    "ถ้าเราแทนชนิดข้อมูลด้วยพารามิเตอร์ระบุชนิด `T` เราจะได้เมทอดนี้ในแบบที่เป็นเจเนอริก"
   ]
  },
  {
   "cell_type": "code",
   "execution_count": 3,
   "metadata": {},
   "outputs": [
    {
     "name": "stdout",
     "output_type": "stream",
     "text": [
      "integerArray contains: \n",
      "1 2 3 4 5 6 \n",
      "doubleArray contains: \n",
      "1.1 2.2 3.3 4.4 5.5 6.6 7.7 \n",
      "characterArray contains: \n",
      "H E L L O \n"
     ]
    }
   ],
   "source": [
    "public class GenericMethod {\n",
    "    public static void main(String[] args) {\n",
    "        Integer[] integerArray = { 1, 2, 3, 4, 5, 6 };\n",
    "        Double[] doubleArray = { 1.1, 2.2, 3.3, 4.4, 5.5, 6.6, 7.7 };\n",
    "        Character[] characterArray = { 'H', 'E', 'L', 'L', 'O' };\n",
    "        \n",
    "        System.out.println(\"integerArray contains: \");\n",
    "        printArray(integerArray);\n",
    "        System.out.println(\"doubleArray contains: \");\n",
    "        printArray(doubleArray);\n",
    "        System.out.println(\"characterArray contains: \");\n",
    "        printArray(characterArray);\n",
    "    }\n",
    "    \n",
    "    public static <T> void printArray(T[] inputArray) {\n",
    "        for (T element : inputArray) {\n",
    "            System.out.printf(\"%s \", element);\n",
    "        }\n",
    "        System.out.println();\n",
    "    }\n",
    "}"
   ]
  },
  {
   "cell_type": "markdown",
   "metadata": {},
   "source": [
    "ซึ่งให้ผลลัพธ์เหมือนกันและมีโค้ดที่ไม่ซ้ำซ้อน กระชับมากกว่าการใช้การโอเวอร์โหลด และที่สำคัญคือสามารถใช้กับชนิดอื่น ๆ ได้ด้วย ไม่จำกัดเพียง 3 ชนิดอย่างในแบบแรก\n",
    "\n",
    "รูปแบบการประกาศเมทอดให้เป็นเจเนอริก เช่น ในตัวอย่างนี้\n",
    "\n",
    "```java\n",
    "public static <T> void printArray(T[] inputArray)\n",
    "```\n",
    "\n",
    "จะมีส่วนการประกาศพารามิเตอร์ระบุชนิด (type parameter) อยู่ในเครื่องหมาย `<` และ `>` โดยอยู่หน้าชนิดการคืนค่าของเมทอด\n",
    "\n",
    "ชื่อของพารามิเตอร์ระบุชนิดจะเป็นชื่ออะไรก็ได้ แต่ตามธรรมเนียมจะใช้อักษรตัวพิมพ์ใหญ่ตัวเดียว และนิยมใช้ `T` (จากคำว่า type), `E` (จากคำว่า element), `K` (จากคำว่า key) และ `V` (จากคำว่า value)\n",
    "\n",
    "เมื่อเทียบกับคลาสเจเนอริกแล้ว เมทอดเจเนอริกอาจจะมีข้อแตกต่างในการใช้งานอีกข้อหนึ่ง คือเวลาที่เรียกใช้เราไม่จำเป็นต้องระบุว่าชนิดของข้อมูลที่นำมาใช้ด้วยเป็นชนิดอะไร เพราะคอมไพเลอร์จะดูเองจากชนิดของอาร์กิวเมนต์ที่ผ่านให้กับเมทอดนั้น\n",
    "\n",
    "พฤติกรรมที่อยู่เบื้องหลังของเมทอดเจเนอริกก็จะคล้ายกับกรณีของคลาสเจเนอริก ในตัวอย่าง `printArray()` ที่ใช้กับ `Integer`, `Double` และ `Character` จริง ๆ แล้วต่างก็เป็นเมทอดเดียวกันที่กำหนดชนิดข้อมูลไว้เป็น `Object`\n",
    "\n",
    "เมื่อคอมไพเลอร์คอมไพล์โค้ดที่เป็นเจเนอริก คอมไพเลอร์จะลบส่วนที่เป็นพารามิเตอร์ระบุชนิดและแทนส่วนนั้นด้วยชนิดข้อมูลจริง ๆ ซึ่งปกติจะเป็นการแทนด้วยคลาส `Object` กระบวนการนี้คือการลบล้างชนิดข้อมูล (type erasure) เช่นเดียวกันกับกรณีของคลาสเจเนอริก\n",
    "\n",
    "ดังนั้น `printArray()` หลังการคอมไพล์แล้วจะเป็นลักษณะนี้\n",
    "\n",
    "```java\n",
    "public static void printArray(Object[] inputArray) {\n",
    "    for (Object element : inputArray) {\n",
    "        System.out.printf(\"%s \", element);\n",
    "    }\n",
    "    System.out.println();\n",
    "}\n",
    "```\n",
    "\n",
    "### ประเด็นในขั้นตอนการคอมไพล์\n",
    "\n",
    "ปัญหาหนึ่งที่น่าสนใจในขั้นตอนการคอมไพล์คือกรณีที่เมทอดมีการกำหนดชนิดของการคืนค่าด้วยพารามิเตอร์ระบุชนิด\n",
    "\n",
    "พิจารณาโค้ดต่อไปนี้"
   ]
  },
  {
   "cell_type": "code",
   "execution_count": 19,
   "metadata": {},
   "outputs": [
    {
     "name": "stdout",
     "output_type": "stream",
     "text": [
      "Maximum of 3, 4, and 5 is 5\n",
      "Maximum of 6.6, 8.8, and 7.7 is 8.8\n",
      "Maximum of pear, apple, and orange is pear\n"
     ]
    }
   ],
   "source": [
    "public class MaximumTest {\n",
    "    public static void main(String[] args) {\n",
    "        System.out.printf(\"Maximum of %d, %d, and %d is %d%n\",\n",
    "                          3, 4, 5, maximum(3, 4, 5));\n",
    "        System.out.printf(\"Maximum of %.1f, %.1f, and %.1f is %.1f%n\",\n",
    "                          6.6, 8.8, 7.7, maximum(6.6, 8.8, 7.7));\n",
    "        System.out.printf(\"Maximum of %s, %s, and %s is %s%n\",\n",
    "                          \"pear\", \"apple\", \"orange\", maximum(\"pear\", \"apple\", \"orange\"));\n",
    "    }\n",
    "    \n",
    "    public static <T extends Comparable<T>> T maximum(T x, T y, T z) {\n",
    "        T max = x;\n",
    "        \n",
    "        if (y.compareTo(max) > 0)\n",
    "            max = y;\n",
    "        \n",
    "        if (z.compareTo(max) > 0)\n",
    "            max = z;\n",
    "        \n",
    "        return max;\n",
    "    }\n",
    "}"
   ]
  },
  {
   "cell_type": "markdown",
   "metadata": {},
   "source": [
    "เราให้ `maximum()` เป็นเมทอดเจเนอริก ซึ่งรับพารามิเตอร์ 3 ตัวและคืนค่าเป็นค่าที่มากที่สุดใน 3 ตัวนี้ เราระบุชนิดของพารามิเตอร์เป็น `T` และให้ชนิดของการคืนค่าผลลัพธ์เป็น `T` ด้วย เพราะค่าผลลัพธ์ที่คืนในกรณีนี้ต้องเป็นชนิดเดียวกับอาร์กิวเมนต์ที่ส่งเข้ามา\n",
    "\n",
    "สังเกตว่าในส่วนของการกำหนดพารามิเตอร์ระบุชนิด เรากำหนดเป็น `<T extends Comparable<T>>`\n",
    "\n",
    "การหาค่ามากที่สุดจะต้องอาศัยการเปรียบเทียบค่า แต่เราไม่สามารถใช้ตัวดำเนินการเปรียบเทียบ (เช่น `>`) กับอ็อบเจกต์ได้ สำหรับอ็อบเจกต์จากคลาสเดียวกัน เราจะเปรียบเทียบค่าได้ถ้าคลาสนั้นอิมพลีเมนต์อินเทอร์เฟซ `Comparable<T>` ซึ่งกำหนดเมทอด `compareTo()` เอาไว้\n",
    "\n",
    "คลาสกลุ่มที่เป็นคลาสหีบห่อ (wrapper class) เช่น `Integer`, `Double` หรือ `Character` ต่างก็อิมพลีเมนต์อินเทอร์เฟซ `Comparable<T>` เอาไว้แล้ว โดยเมทอด `compareTo()` ซึ่งถูกโอเวอร์ไรด์ในคลาสเหล่านี้จะคืนค่าเป็น `-1`, `0` หรือ `1` ถ้าอ็อบเจกต์ตัวแรกมีค่าน้อยกว่า เท่ากัน หรือมากกว่าตัวหลัง ตามลำดับ\n",
    "\n",
    "> **หมายเหตุ** `Comparable<T>` จัดเป็นอินเทอร์เฟซเจเนอริก (generic interface) ซึ่งกำหนดเมทอดที่เป็นแบบเจเนอริกเอาไว้\n",
    "\n",
    "การกำหนด `<T extends Comparable<T>>` เป็นการบอกเงื่อนไขว่า `T` ในที่นี้จะต้องเป็นคลาสที่อิมพลีเมนต์อินเทอร์เฟซ `Comparable<T>` เท่านั้น ไม่ใช่คลาสใดก็ได้ การกำหนดเช่นนี้ทำให้ `Comparable` ถือเป็นข้อจำกัดหรือขอบเขตของ `T`\n",
    "\n",
    "ถ้าเราไม่กำหนดเงื่อนไขนี้ ข้อจำกัดหรือขอบเขตของ `T` จะเป็นคลาส `Object` โดยปริยาย\n",
    "\n",
    "การกำหนดให้ `T` ต้องเป็นคลาสที่อิมพลีเมนต์อินเทอร์เฟซ `Comparable<T>` ทำให้เราสามารถเรียกใช้เมทอด `compareTo()` ได้ และทำให้เราจำกัดกลุ่มของอ็อบเจกต์ที่ใช้กับ `maximum` ได้ต้องเป็นกลุ่มที่เปรียบเทียบค่ากันได้เท่านั้น\n",
    "\n",
    "โค้ดที่คอมไพเลอร์จะสร้างออกมาจะแตกต่างจากกรณีที่เราไม่กำหนดเงื่อนไขข้อจำกัดนี้ด้วย โดยมีลักษณะดังนี้\n",
    "\n",
    "```java\n",
    "public static Comparable maximum(Comparable x, Comparable y, Comparable z) {\n",
    "    Comparable max = x;\n",
    "\n",
    "    if (y.compareTo(max) > 0)\n",
    "        max = y;\n",
    "\n",
    "    if (z.compareTo(max) > 0)\n",
    "        max = z;\n",
    "\n",
    "    return max;\n",
    "}\n",
    "```\n",
    "\n",
    "คอมไพเลอร์จะแทนที่ `T` ด้วย `Comparable` ทั้งหมด แทนที่จะแทนด้วย `Object` เหมือนในกรณีที่ผ่านมา เพราะฉะนั้นอ็อบเจกต์ที่จะส่งผ่านเข้ามาเป็นอาร์กิวเมนต์ของ `maximum()` ได้ก็ต้องอิมพลีเมนต์อินเทอร์เฟซ `Comparable`\n",
    "\n",
    "นอกจากนี้ ชนิดของการคืนค่าที่ระบุเป็น `T` ก็ยังถูกแทนที่ด้วย `Comparable` เช่นกัน โดยคอมไพเลอร์จะเติมการแปลงชนิดข้อมูล (cast) ให้กับผลการคืนค่าเองโดยอัตโนมัติ ซึ่งจะแปลงจาก `Comparable` ไปเป็นชนิดที่ผู้เรียกต้องการ\n",
    "\n",
    "> **หมายเหตุ** เมทอดเจเนอริกสามารถถูกโอเวอร์โหลดได้จากทั้งเมทอดเจเนอริกและเมทอดธรรมดา โดยพารามิเตอร์ของเมทอดจะต้องมีลักษณะต่างกัน และการโอเวอร์โหลดนั้นต้องไม่ทำให้เกิดความคลุมเครือในการเลือกว่าเมทอดใดจะถูกเรียก\n",
    "\n",
    "## wildcard"
   ]
  },
  {
   "cell_type": "code",
   "execution_count": null,
   "metadata": {},
   "outputs": [],
   "source": []
  }
 ],
 "metadata": {
  "kernelspec": {
   "display_name": "Java",
   "language": "java",
   "name": "java"
  },
  "language_info": {
   "codemirror_mode": "java",
   "file_extension": ".java",
   "mimetype": "text/x-java-source",
   "name": "Java",
   "pygments_lexer": "java",
   "version": "9.0.4+11"
  }
 },
 "nbformat": 4,
 "nbformat_minor": 2
}
