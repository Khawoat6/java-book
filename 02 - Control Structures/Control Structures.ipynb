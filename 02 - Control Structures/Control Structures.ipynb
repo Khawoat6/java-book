{
 "cells": [
  {
   "cell_type": "markdown",
   "metadata": {},
   "source": [
    "# โครงสร้างควบคุม\n",
    "\n",
    "โปรแกรมในภาษา Java ประกอบขึ้นจากคำสั่ง (statement) ซึ่งโดยปกติจะทำงานตามลำดับไปจนสิ้นสุดส่วนของโปรแกรม เช่น เริ่มที่ต้นเมทอดไปจนสิ้นสุดเมทอด แต่โดยปกติแล้ว การทำงานใด ๆ ที่มีความซับซ้อนจะไม่ได้ทำตามลำดับขั้นตอนไปตลอด แต่มักจะต้องมีการตัดสินใจ การเลือกทำกรณีเฉพาะที่แตกต่างกัน การทำบางขั้นตอนซ้ำ ๆ การออกจากส่วนของโปรแกรมก่อนจะถึงจุดสิ้นสุด หรือลักษณะอื่น ๆ ที่ทำให้โปรแกรมไม่ทำงานไปตามลำดับปกติ\n",
    "\n",
    "กลไกที่มาสนับสนุนการเปลี่ยนแปลงลำดับการทำงานให้เป็นไปตามที่เราต้องการนั้นคือโครงสร้างควบคุม (control structure) ซึ่งเป็นรูปแบบคำสั่งที่กำหนดทิศทางการทำงานต่าง ๆ ได้ โครงสร้างควบคุมที่เราจะพิจารณากันในที่นี้คือ ทางเลือก การทำซ้ำ และการเรียกเมทอด\n",
    "\n",
    "> **หมายเหตุ** โปรแกรมตัวอย่างที่แสดงในบทนี้บางส่วนอาจจะเป็นเพียงส่วนของโปรแกรม การนำไปรันอาจต้องเพิ่มโครงของคลาสและเมทอด `main` ตามความเหมาะสม\n",
    "\n",
    "## การทำงานตามลำดับ\n",
    "\n",
    "ในสภาวะปกติที่ไม่มีคำสั่งควบคุมลำดับการทำงานเลย การทำงานของโปรแกรมจะเป็นไปตามลำดับ จากซ้ายไปขวาถ้ามีหลายคำสั่งในบรรทัดเดียวกัน และจากบนลงล่าง เราเรียกลักษณะการทำงานแบบนี้ว่าการควบคุมแบบตามลำดับ (sequential control) ซึ่งเป็นรูปแบบโดยปริยายเมื่อไม่มีการใช้คำสั่งควบคุมใด ๆ\n",
    "\n",
    "### คำสั่งแบบบล็อก\n",
    "\n",
    "Java มีโครงสร้างพิเศษที่ทำให้เราสามารถรวมหลาย ๆ คำสั่งไว้ด้วยกันแล้วมองเป็นคำสั่งเดียวได้ เรียกว่าคำสั่งแบบบล็อก (block statement) ซึ่งประกอบด้วยคำสั่งหลาย ๆ คำสั่งครอบด้วยเครื่องหมายวงเล็บปีกกา"
   ]
  },
  {
   "cell_type": "code",
   "execution_count": 7,
   "metadata": {},
   "outputs": [
    {
     "name": "stdout",
     "output_type": "stream",
     "text": [
      "Outside of the block\n",
      "Inside the block\n",
      "... where a + c = 25.4\n",
      "Outside again\n",
      "... where a + b = 15.25\n",
      "... and where there is no c\n"
     ]
    }
   ],
   "source": [
    "public class BlockDemo {\n",
    "    public static void main(String[] args) {\n",
    "        int a = 10;\n",
    "        double b = 5.25;\n",
    "        \n",
    "        System.out.println(\"Outside of the block\");\n",
    "        \n",
    "        {\n",
    "            double c = 15.4;\n",
    "            \n",
    "            System.out.println(\"Inside the block\");\n",
    "            System.out.println(\"... where a + c = \" + (a + c));\n",
    "        }\n",
    "        \n",
    "        System.out.println(\"Outside again\");\n",
    "        System.out.println(\"... where a + b = \" + (a + b));\n",
    "        System.out.println(\"... and where there is no c\");\n",
    "    }\n",
    "}\n",
    "\n",
    "BlockDemo.main(new String[0]);"
   ]
  },
  {
   "cell_type": "markdown",
   "metadata": {},
   "source": [
    "การทำงานภายในบล็อกก็ยังคงเป็นลำดับต่อเนื่องจากภายนอกบล็อกตามปกติ แต่จากภายนอกจะมองเสมือนคำสั่งภายในบล็อกรวมกันเป็นคำสั่งเดียว การประกาศตัวแปรใด ๆ ภายในบล็อกจะมีขอบเขตเพียงภายในบล็อก ในตัวอย่างนี้ ส่วนที่อยู่นอกบล็อกจะไม่สามารถอ้างอิงตัวแปร `c` ได้เนื่องจากประกาศอยู่ภายในบล็อก\n",
    "\n",
    "## การทำงานแบบมีทางเลือก\n",
    "\n",
    "โครงสร้างควบคุมที่ทำให้เราสามารถเลือกการทำงานได้ตามเงื่อนไขที่ระบุในภาษา Java มีอยู่ 2 แบบ ได้แก่ `if`/`else` และ `switch`\n",
    "\n",
    "คำสั่ง `if`/`else` จะเลือกทำงานระหว่าง 2 ทางเลือกตามเงื่อนไข ถ้าเงื่อนไขเป็นจริงก็จะทำทางเลือกแรก แต่ถ้าเงื่อนไขไม่จริง ในกรณีที่ไม่มี `else` ก็จะไม่ทำอะไร แต่ทำคำสั่งถัดไปต่อไปเลย ในกรณีที่มี `else` ก็จะทำทางเลือกของ `else` ก่อนจะทำคำสั่งถัดไปต่อไป\n",
    "\n",
    "รูปแบบวากยสัมพันธ์ของ `if` เป็นดังนี้\n",
    "\n",
    "```\n",
    "if (condition)\n",
    "    true-branch\n",
    "```\n",
    "\n",
    "แบบที่มี `else` มีลักษณะดังนี้\n",
    "\n",
    "```\n",
    "if (condition)\n",
    "    true-branch\n",
    "else\n",
    "    false-branch\n",
    "```\n",
    "\n",
    "`condition` คือเงื่อนไขที่จะทดสอบ มีค่าเป็นชนิด `boolean` คือเป็นค่า `true` หรือ `false`\n",
    "\n",
    "`true-branch` คือคำสั่งที่จะให้ทำถ้าเงื่อนไขเป็นจริง และจะทำ `false-branch` สำหรับกรณีที่มี `else` และเงื่อนไขเป็นเท็จ คำสั่งที่ให้ทำในแต่ละทางเลือกจะเป็นคำสั่งเดี่ยว ๆ คำสั่งเดียว หรือจะเป็นหลายคำสั่งรวมกันในรูปของคำสั่งแบบบล็อกก็ได้\n",
    "\n",
    "### รูปแบบของเงื่อนไข\n",
    "\n",
    "เงื่อนไขที่ใช้กับ `if` จะต้องมีค่าเป็น `true` หรือ `false` หมายความว่าต้องเป็นค่าชนิด `boolean` ซึ่งจะได้จาก\n",
    "\n",
    "1. ค่าชนิด `boolean` โดยตรง ได้แก่ ค่า `true` และ `false`\n",
    "2. ตัวแปรชนิด `boolean`\n",
    "3. ผลจากตัวดำเนินการเปรียบเทียบหรือทดสอบ เช่น `==`, `>=`, `<` หรือ `instanceof`\n",
    "4. ผลจากตัวดำเนินการตรรกะ เช่น `&&`, `||` หรือ `!`\n",
    "\n",
    "ตัวดำเนินการเปรียบเทียบมีทั้งหมด 6 แบบ ได้แก่ น้อยกว่า (`<`) น้อยกว่าหรือเท่ากัน (`<=`) มากกว่าหรือเท่ากัน (`>=`) มากกว่า (`>`) เท่ากัน (`==`) และไม่เท่ากัน (`!=`) ส่วนตัวดำเนินการทดสอบมีแบบเดียวคือ `instanceof` ซึ่งใช้ทดสอบความสัมพันธ์ระหว่างอ็อบเจกต์และคลาส\n",
    "\n",
    "ตัวดำเนินการตรรกะมีทั้งหมด 6 แบบ ได้แก่ นิเสธหรือ not (`!`), and (`&&`), or, (`||`), strict exclusive-or (`^`), strict and (`&`) และ strict or (`|`)\n",
    "\n",
    "โดยปกติแล้ว ตัวดำเนินการตรรกะที่เราใช้บ่อยคือ `!`, `&&` และ `||` ส่วนอีก 3 ตัวที่เหลือมักจะพบการใช้เป็นการดำเนินการระดับบิตกับข้อมูลชนิดตัวเลขมากกว่า\n",
    "\n",
    "ตัวดำเนินการตรรกะมีลำดับความสำคัญต่ำกว่าตัวดำเนินการเปรียบเทียบ เพราะฉะนั้นถ้าอยู่ร่วมกันในนิพจน์เดียวกัน ตัวดำเนินการเปรียบเทียบจะถูกทำก่อน\n",
    "\n",
    "ตัวอย่างต่อไปนี้แสดงการใช้งาน `if` และเงื่อนไขในรูปแบบต่าง ๆ"
   ]
  },
  {
   "cell_type": "code",
   "execution_count": 9,
   "metadata": {},
   "outputs": [
    {
     "name": "stdout",
     "output_type": "stream",
     "text": [
      "Second case is true\n",
      "Nothing is true\n"
     ]
    }
   ],
   "source": [
    "int x = 10;\n",
    "int y = 20;\n",
    "boolean b = true;\n",
    "boolean c = b && x < y; // true\n",
    "\n",
    "if (x < y - 10)\n",
    "    System.out.println(\"First case is true\");\n",
    "\n",
    "if (c) {\n",
    "    // Using block statement here\n",
    "    System.out.println(\"Second case is true\");\n",
    "} else {\n",
    "    // Also block statement here\n",
    "    System.out.println(\"Second case if false\");\n",
    "}\n",
    "\n",
    "// Nested if's, all using block statements\n",
    "if (x + 1 > y) {\n",
    "    System.out.println(\"Third case is true\");\n",
    "} else if (x + 5 > y && y < 30) {\n",
    "    System.out.println(\"Fourth case is true\");\n",
    "} else if (x + 10 > y && y < 40) {\n",
    "    System.out.println(\"Fifth case is true\");\n",
    "} else {\n",
    "    System.out.println(\"Nothing is true\");\n",
    "}"
   ]
  },
  {
   "cell_type": "markdown",
   "metadata": {},
   "source": [
    "### นิพจน์เงื่อนไข\n",
    "\n",
    "เราสามารถใช้ทางเลือกในนิพจน์ได้ในรูปของนิพจน์เงื่อนไข ซึ่งมีรูปแบบเป็น `condition ? value1 : value2` ซึ่งจะให้ผลลัพธ์เป็นค่าของ `value1` ถ้า `condition` เป็นจริงหรือ `value2` ถ้า `condition` เป็นเท็จ"
   ]
  },
  {
   "cell_type": "code",
   "execution_count": 10,
   "metadata": {},
   "outputs": [
    {
     "name": "stdout",
     "output_type": "stream",
     "text": [
      "10\n"
     ]
    }
   ],
   "source": [
    "int x = -10;\n",
    "int y = x < 0 ? -x : x;\n",
    "\n",
    "System.out.println(y);"
   ]
  },
  {
   "cell_type": "markdown",
   "metadata": {},
   "source": [
    "ในตัวอย่างนี้ค่าของ `y` จะขึ้นอยู่กับเงื่อนไข `x < 0` ซึ่งถ้าจริง `y` ก็จะเท่ากับ `-x` และถ้าไม่จริง `y` ก็จะเท่ากับ `x` ในกรณีนี้ค่าของ `x` เป็นลบ จึงเข้าเงื่อนไขที่เป็นค่า `-x` ค่าของ `y` จึงได้เป็น 10\n",
    "\n",
    "### คำสั่งทางเลือกแบบหลายทาง\n",
    "\n",
    "ในบางกรณีเราต้องการเลือกทางเลือกจากค่าของตัวแปรหรือค่าผลลัพธ์ของนิพจน์ โดยผลลัพธ์แต่ละค่าจะเป็นทางเลือกที่ต่างกัน และมีหลายทางเลือก ในกรณีนี่เราอาจจะใช้คำสั่ง `switch` ในการจัดการ\n",
    "\n",
    "คำสั่ง `switch` จะอยู่ในรูป\n",
    "\n",
    "```\n",
    "switch (expression) {\n",
    "    case constant1: branch1\n",
    "    case constant2: branch2\n",
    "    ...\n",
    "    default: branchn\n",
    "}\n",
    "```\n",
    "\n",
    "ส่วนของ `expression` เป็นค่าที่ `switch` จะพิจารณาเพื่อเลือกทางเลือก โดยต้องมีชนิดเป็น `int`, `short`, `char`, `byte`, `enum`, `String` หรือเป็นคลาสหีบห่อ (wrapper class) ของ `int`, `short`, `char` และ `byte`\n",
    "\n",
    "`switch` จะเทียบค่าของ `expression` กับค่า `constant` ของแต่ละ `case` ว่าตรงกับอันไหน แล้วก็จะเริ่มทำคำสั่งตาม `branch` ที่ตรงกับ `case` นั้น โดยจะทำไปเรื่อย ๆ จนกว่าจะสิ้นสุดคำสั่ง `switch` หรือจนกว่าจะเจอคำสั่ง `break`\n",
    "\n",
    "ในกรณีที่ค่าของ `expression` ไม่ตรงกับ `case` ใดเลย จะทำคำสั่งที่กำหนดที่ `default` ยกเว้นจะไม่ได้กำหนดส่วนของ `default` เอาไว้\n",
    "\n",
    "ตัวอย่างต่อไปนี้เป็นการใช้ `switch` เบื้องต้น"
   ]
  },
  {
   "cell_type": "code",
   "execution_count": 11,
   "metadata": {},
   "outputs": [
    {
     "name": "stdout",
     "output_type": "stream",
     "text": [
      "Wednesday\n"
     ]
    }
   ],
   "source": [
    "int day = 4;\n",
    "String dayName;\n",
    "\n",
    "switch (day) {\n",
    "    case 1:\n",
    "        dayName = \"Sunday\";\n",
    "        break;\n",
    "    case 2:\n",
    "        dayName = \"Monday\";\n",
    "        break;\n",
    "    case 3:\n",
    "        dayName = \"Tuesday\";\n",
    "        break;\n",
    "    case 4:\n",
    "        dayName = \"Wednesday\";\n",
    "        break;\n",
    "    case 5:\n",
    "        dayName = \"Thursday\";\n",
    "        break;\n",
    "    case 6:\n",
    "        dayName = \"Friday\";\n",
    "        break;\n",
    "    case 7:\n",
    "        dayName = \"Saturday\";\n",
    "        break;\n",
    "    default:\n",
    "        dayName = \"No such day\";\n",
    "}\n",
    "\n",
    "System.out.println(dayName);"
   ]
  },
  {
   "cell_type": "markdown",
   "metadata": {},
   "source": [
    "จากตัวอย่างนี้ ค่าของ `day` คือ 4 ซึ่งจะตรงกับ `case` ที่กำหนดให้ `dayName` มีค่าเป็น `\"Wednesday\"` แล้วก็ `break` เลย\n",
    "\n",
    "ในบางครั้งเราอาจไม่ต้องการ `break` ในบาง `case` เพื่อให้ทำงานต่อไปยัง `case` ต่อไปเลยโดยไม่ออกจาก `switch` ลักษณะแบบนี้เรียกว่า fall through คือปล่อยให้ไหลต่อไป ลองดูตัวอย่างต่อไปนี้"
   ]
  },
  {
   "cell_type": "code",
   "execution_count": 27,
   "metadata": {},
   "outputs": [
    {
     "name": "stdout",
     "output_type": "stream",
     "text": [
      "You've got a board game, a lollipop, a fancy mask, and a lot of fun.\n"
     ]
    }
   ],
   "source": [
    "Random dice = new Random();\n",
    "\n",
    "String prizes = \"You've got \";\n",
    "\n",
    "switch (dice.nextInt(6) + 1) {\n",
    "    case 1:\n",
    "        prizes += \"a teddy bear.\";\n",
    "        break;\n",
    "    case 2:\n",
    "        prizes += \"a model robot, \";\n",
    "    case 3:\n",
    "        prizes += \"a board game, \";\n",
    "    case 4: case 5:\n",
    "        prizes += \"a lollipop, \";\n",
    "    case 6:\n",
    "        prizes += \"a fancy mask, \";\n",
    "    default:\n",
    "        prizes += \"and a lot of fun.\";\n",
    "}\n",
    "\n",
    "System.out.println(prizes);"
   ]
  },
  {
   "cell_type": "markdown",
   "metadata": {},
   "source": [
    "ตัวอย่างนี้เป็นการทอดลูกเต๋าชิงรางวัล โดยสุ่มค่า 1-6 ด้วยเมทอด `nextInt` (ซึ่งจะได้ค่าในช่วง 0-5 จึงบวกเพิ่มอีก 1) แล้วนำค่าที่สุ่มได้ไปกำหนดรางวัลที่ได้\n",
    "\n",
    "ในตัวอย่างเราจะเห็นว่า `case 1` จะให้ teddy bear แล้ว `break` เลย แต่ตั้งแต่ `case 2` เป็นต้นไปจะไม่มีการ `break` นอกจากนี้ `case 4` และ `case 5` ยังอยู่รวมกัน ซึ่งหมายความว่าถ้าได้ค่า 4 หรือ 5 ก็จะมาตกกรณีเดียวกัน\n",
    "\n",
    "ในการรันตัวอย่าง พบว่าทอดลูกเต๋าได้ค่า 3 สตริง `prizes` จึงได้ต่อข้อความมาตั้งแต่ `\"a board game, \"` ของ `case 3` ไหลต่อเนื่องไปยัง `\"a lollipop, \"` ของ `case 4` และ `case 5` ไปถึง `\"a fancy mask, \"` ของ `case 6` และไปจบที่ `\"and a lot of fun.\"` ของ `default` เนื่องจากไม่มีการ `break` เลย\n",
    "\n",
    "กรณีตัวอย่างนี้แสดงให้เห็นการใช้งาน `switch` ในการสะสมค่าต่อเนื่องตั้งแต่กรณีที่ค่าตรงกันไปจนจบ ซึ่งในการใช้งานจริงอาจพบกรณีลักษณะนี้อยู่บ้าง\n",
    "\n",
    "## การทำซ้ำ\n",
    "\n",
    "คำสั่งสำหรับทำซ้ำในภาษา Java มีอยู่ 3 รูปแบบด้วยกัน ได้แก่ `while`, `do` ... `while` และ `for` โดย 2 แบบแรกนิยมใช้กับการทำซ้ำตามเงื่อนไข ส่วนแบบหลังนิยมใช้กับการทำซ้ำแบบรู้จำนวนรอบล่วงหน้า ทั้งนี้ ในความเป็นจริงแล้วคำสั่งทำซ้ำทั้ง 3 แบบสามารถใช้แทนกันได้ทั้งหมด\n",
    "\n",
    "### คำสั่ง while\n",
    "\n",
    "คำสั่ง `while` หรือลูป (loop) `while` ใช้สำหรับการทำซ้ำโดยพิจารณาตามเงื่อนไข ถ้าเงื่อนไขที่กำหนดเป็นจริงก็ทำซ้ำต่อไปแล้วกลับมาพิจารณาเงื่อนไขใหม่ เมื่อใดที่เงื่อนไขไม่จริงก็จะสิ้นสุดการทำงาน\n",
    "\n",
    "รูปแบบของคำสั่ง `while` เป็นดังนี้\n",
    "\n",
    "```\n",
    "while (condition)\n",
    "    body\n",
    "```\n",
    "\n",
    "`condition` คือเงื่อนไขที่พิจารณาในการทำซ้ำ โดยจะทำส่วนของ `body` ตราบเท่าที่เงื่อนไขยังเป็นจริงอยู่ ดังตัวอย่างนี้"
   ]
  },
  {
   "cell_type": "code",
   "execution_count": 28,
   "metadata": {},
   "outputs": [
    {
     "name": "stdout",
     "output_type": "stream",
     "text": [
      "Total: 45\n"
     ]
    }
   ],
   "source": [
    "int x = 10;\n",
    "int y = 5;\n",
    "int sum = 0;\n",
    "\n",
    "while (x > y) {\n",
    "    sum += x + y;\n",
    "    x--;\n",
    "    y++;\n",
    "}\n",
    "\n",
    "System.out.println(\"Total: \" + sum);"
   ]
  },
  {
   "cell_type": "markdown",
   "metadata": {},
   "source": [
    "ลูปนี้จะทำงานไปเรื่อย ๆ ตราบเท่าที่ค่าของ `x` ยังมากกว่า `y` โดยในแต่ละรอบจะลดค่าของ `x` และเพิ่มค่าของ `y` ด้วย\n",
    "\n",
    "ในกรณีที่เงื่อนไขไม่เป็นจริงตั้งแต่แรก ลูป `while` จะไม่ทำงานเลย\n",
    "\n",
    "### ลูป do ... while\n",
    "\n",
    "### ลูป for\n",
    "\n",
    "ตัวดำเนินการเพิ่ม/ลดค่า\n",
    "\n",
    "### break\n",
    "\n",
    "### continue\n",
    "\n",
    "### static methods\n",
    "\n",
    "#### return\n",
    "\n",
    "### ขอบเขตของตัวแปร\n",
    "\n",
    "### การบดบัง (shadowing)"
   ]
  },
  {
   "cell_type": "code",
   "execution_count": 1,
   "metadata": {},
   "outputs": [
    {
     "name": "stdout",
     "output_type": "stream",
     "text": [
      "true\n"
     ]
    },
    {
     "data": {
      "text/plain": [
       "No Outputs"
      ]
     },
     "execution_count": 1,
     "metadata": {},
     "output_type": "execute_result"
    }
   ],
   "source": [
    "System.out.println(10 < 20);"
   ]
  },
  {
   "cell_type": "code",
   "execution_count": null,
   "metadata": {},
   "outputs": [],
   "source": []
  }
 ],
 "metadata": {
  "kernelspec": {
   "display_name": "Java",
   "language": "java",
   "name": "java"
  },
  "language_info": {
   "codemirror_mode": "java",
   "file_extension": ".java",
   "mimetype": "text/x-java-source",
   "name": "Java",
   "pygments_lexer": "java",
   "version": "9.0.4+11"
  }
 },
 "nbformat": 4,
 "nbformat_minor": 2
}
