{
 "cells": [
  {
   "cell_type": "markdown",
   "metadata": {},
   "source": [
    "# ภาษา Java\n",
    "\n",
    "## ความเป็นมา\n",
    "\n",
    "ภาษา Java เกิดจาก Sun Microsystems\n",
    "\n",
    "เดิมชื่อภาษา Oak เปลี่ยนเป็น Java ไม่เกี่ยวกับกาแฟ\n",
    "\n",
    "## ลักษณะเด่นของภาษา Java\n",
    "\n",
    "write-once-run-anywhere\n",
    "\n",
    "OOP, memory management, free\n",
    "\n",
    "Oracle ได้จัดชุดพัฒนาโปรแกรมด้วยภาษา Java ไว้หลายรูปแบบ โดยรูปแบบหลัก ๆ มีดังนี้\n",
    "\n",
    "- Java SE\n",
    "- Java EE\n",
    "- Java ME\n",
    "\n",
    "ที่เราจะใช้ในวิชานี้คือ Java SE\n",
    "\n",
    "## การติดตั้ง Java Development Kit\n",
    "\n",
    "ดาวน์โหลด JDK ได้ที่ http://www.oracle.com/technetwork/java/javase/downloads/index.html\n",
    "\n",
    "## การรันโปรแกรม\n",
    "\n",
    "### การคอมไพล์\n",
    "\n",
    "### การรัน\n",
    "\n",
    "โปรแกรมที่เขียนด้วยภาษา Java ไม่สามารถรันได้ทันที ต้องผ่านขั้นตอนการคอมไพล์ก่อน"
   ]
  },
  {
   "cell_type": "code",
   "execution_count": null,
   "metadata": {},
   "outputs": [],
   "source": [
    "class Welcome {\n",
    "    public static void main(String[] args) {\n",
    "        System.out.println(\"Welcome to the Java World!\");\n",
    "    }\n",
    "}"
   ]
  },
  {
   "cell_type": "markdown",
   "metadata": {},
   "source": [
    "ตั้งชื่อไฟล์นี้ว่า Welcome.java แล้วคอมไพล์ด้วยคำสั่งดังนี้\n",
    "\n",
    "`javac Welcome.java`\n",
    "\n",
    "เราจะได้ผลลัพธ์เป็นไฟล์ชื่อ `Welcome.class` และเรารันโปรแกรมนี้ด้วยคำสั่ง\n",
    "\n",
    "`java Welcome`\n",
    "\n",
    "ซึ่งจะได้ผลลัพธ์เป็นข้อความ\n",
    "\n",
    "`Welcome to the Java World!`\n",
    "\n",
    "สังเกตว่าการสั่งรันโปรแกรมด้วยคำสั่ง `java` เราไม่จำเป็นต้องระบุนามสกุลของไฟล์ (ในที่นี้คือ .class) เนื่องจากว่าสิ่งที่ตามหลังคำสั่ง `java` ไม่ใช่ชื่อไฟล์ แต่เป็นชื่อของคลาสที่ต้องการรัน\n",
    "\n",
    "### คำอธิบายโปรแกรม\n",
    "\n",
    "ส่วนที่เป็นการทำงานจริงของโปรแกรมนี้คือ\n",
    "```java\n",
    "System.out.println(\"Welcome to the Java World!\");\n",
    "```\n",
    "ซึ่งเป็นคำสั่งให้แสดงผลข้อความตามที่ระบุออกทางจอภาพแล้วขึ้นบรรทัดใหม่ แต่ข้อกำหนดของโปรแกรมที่เขียนด้วยภาษา Java คือโค้ดโปรแกรมต้องอยู่ในคลาส (class) และโปรแกรมจะเริ่มทำงานที่เมทอด (method) ที่ชื่อ `main` ที่อยู่ภายในคลาส\n",
    "\n",
    "#### หมายเหตุ\n",
    "\n",
    "เราจะอธิบายเรื่องคลาสและเมทอดโดยละเอียดอีกครั้งในบทอื่น ๆ\n",
    "\n",
    "### ตัวแปรและชนิดข้อมูล\n",
    "\n",
    "ตัวแปรในภาษา Java จะต้องถูกประกาศและกำหนดชนิดข้อมูลก่อนการใช้งาน เมื่อตัวแปรถูกกำหนดชนิดแล้วจะไม่สามารถเปลี่ยนแปลงได้\n",
    "\n",
    "Primitive type\n",
    "\n",
    "| ชนิดข้อมูล | ลักษณะ    | ตัวอย่าง | ขนาด (บิต) | ช่วงของค่า |\n",
    "|---------|----------|--------|----------:|----------|\n",
    "| boolean | ตรรกะ    | false, true | 1 |  |\n",
    "| char    | อักขระ    | 'a', 'A', ' ', '0' | 16 | \\u0000 ... \\uFFFF |\n",
    "| byte    | จำนวนเต็ม | 0, 1, -1, -127, 50 | 8 | 2<sup>8</sup> -128 .. 127 |\n",
    "| short   | จำนวนเต็ม | 0, 1, -1, 2000 | 16 | -32768 .. 32767 |\n",
    "| int     | จำนวนเต็ม | 0, 1, -1, 200000 | 32 | -32768 .. 32767 |\n",
    "| long    | จำนวนเต็ม | 0, 1, -1, 2000 | 16 | -32768 .. 32767 |\n",
    "\n",
    "\n",
    "\n",
    "#### รูปแบบการเขียนจำนวนเต็ม\n",
    "\n",
    "ฐาน 10 (decimal)\n",
    "ฐาน 2 (binary)\n",
    "ฐาน 8 (octal)\n",
    "ฐาน 16 (hexadecimal)\n",
    "\n",
    "การระบุชนิด\n",
    "\n",
    "การแบ่งหลัก\n",
    "\n",
    "\n",
    "\n",
    "Reference type\n",
    "\n",
    "literal type, type tags\n",
    "\n",
    "numeric type and overflow\n",
    "\n",
    "char\n",
    "\n",
    "String, string concatenation\n",
    "\n",
    "### ตัวดำเนินการและลำดับการทำงาน\n",
    "\n",
    "### ธรรมเนียมการตั้งชื่อในภาษา Java\n",
    "\n",
    "#### tabs -> spaces\n",
    "\n",
    "#### line breaking\n",
    "\n",
    "- where to break\n",
    "- 2 tabs for continuation\n",
    "\n",
    "#### เพิ่มเติม\n",
    "\n",
    "1. https://google.github.io/styleguide/javaguide.html\n",
    "2. https://en.wikipedia.org/wiki/Indentation_style\n",
    "\n",
    "### ขอบเขตของตัวแปร\n",
    "\n",
    "### การแสดงข้อความ\n",
    "\n",
    "### การรับข้อมูล"
   ]
  },
  {
   "cell_type": "code",
   "execution_count": 2,
   "metadata": {},
   "outputs": [
    {
     "name": "stdout",
     "output_type": "stream",
     "text": [
      "1234\n"
     ]
    },
    {
     "data": {
      "text/plain": [
       "No Outputs"
      ]
     },
     "execution_count": 2,
     "metadata": {},
     "output_type": "execute_result"
    }
   ],
   "source": [
    "System.out.println(1_234);"
   ]
  },
  {
   "cell_type": "code",
   "execution_count": 3,
   "metadata": {},
   "outputs": [
    {
     "name": "stderr",
     "output_type": "stream",
     "text": [
      "java.util.NoSuchElementException\n",
      "\tat java.util.Scanner.throwFor(Scanner.java:862)\n",
      "\tat java.util.Scanner.next(Scanner.java:1371)\n",
      "\tat java.util.Scanner.next(Scanner.java:304)\n",
      "\tat java_util_Iterator$next.call(Unknown Source)\n",
      "\tat Script1.run(Script1.groovy:4)\n",
      "\tat org.scijava.plugins.scripting.groovy.GroovyScriptEngine.eval(GroovyScriptEngine.java:303)\n",
      "\tat org.scijava.plugins.scripting.groovy.GroovyScriptEngine.eval(GroovyScriptEngine.java:122)\n",
      "\tat javax.script.AbstractScriptEngine.eval(AbstractScriptEngine.java:264)\n",
      "\tat org.scijava.script.ScriptModule.run(ScriptModule.java:159)\n",
      "\tat org.scijava.module.ModuleRunner.run(ModuleRunner.java:167)\n",
      "\tat org.scijava.jupyter.kernel.evaluator.Worker.run(Worker.java:109)\n",
      "\tat org.scijava.thread.DefaultThreadService$2.run(DefaultThreadService.java:220)\n",
      "\tat java.util.concurrent.Executors$RunnableAdapter.call(Executors.java:511)\n",
      "\tat java.util.concurrent.FutureTask.run(FutureTask.java:266)\n",
      "\tat java.util.concurrent.ThreadPoolExecutor.runWorker(ThreadPoolExecutor.java:1142)\n",
      "\tat java.util.concurrent.ThreadPoolExecutor$Worker.run(ThreadPoolExecutor.java:617)\n",
      "\tat java.lang.Thread.run(Thread.java:745)\n"
     ]
    },
    {
     "data": {
      "text/plain": [
       "No Outputs"
      ]
     },
     "execution_count": 3,
     "metadata": {},
     "output_type": "execute_result"
    }
   ],
   "source": [
    "import java.util.Scanner;\n",
    "\n",
    "Scanner input = new Scanner(System.in);\n",
    "String s = input.next();\n",
    "System.out.println(s);"
   ]
  },
  {
   "cell_type": "code",
   "execution_count": null,
   "metadata": {},
   "outputs": [],
   "source": []
  },
  {
   "cell_type": "code",
   "execution_count": null,
   "metadata": {},
   "outputs": [],
   "source": []
  }
 ],
 "metadata": {
  "kernelspec": {
   "display_name": "Java",
   "language": "java",
   "name": "java"
  },
  "language_info": {
   "codemirror_mode": "java",
   "file_extension": ".java",
   "mimetype": "text/x-java-source",
   "name": "Java",
   "pygments_lexer": "java",
   "version": "9.0.4+11"
  }
 },
 "nbformat": 4,
 "nbformat_minor": 2
}
