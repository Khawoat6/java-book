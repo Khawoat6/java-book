{
 "cells": [
  {
   "cell_type": "markdown",
   "metadata": {},
   "source": [
    "# โครงสร้างควบคุม\n",
    "\n",
    "โปรแกรมในภาษา Java ประกอบขึ้นจากคำสั่ง (statement) ซึ่งโดยปกติจะทำงานตามลำดับไปจนสิ้นสุดส่วนของโปรแกรม (เมทอดหรือบล็อกคำสั่งอื่น ๆ)\n",
    "\n",
    "## คำสั่งควบคุมตามลำดับ\n",
    "\n",
    "### block statement\n",
    "\n",
    "## คำสั่งควบคุมแบบทางเลือก\n",
    "\n",
    "### if-then-else\n",
    "\n",
    "การเลือกทำคำสั่งของคำสั่งควบคุมจะถูกกำหนดโดยเงื่อนไขซึ่งประกอบขึ้นจากตัวดำเนินการเปรียบเทียบและตัวดำเนินการตรรกะ ซึ่งมีผลลัพธ์เป็น `true` หรือ `false`\n",
    "\n",
    "\n",
    "### คำสั่งทางเลือกแบบหลายทาง\n",
    "\n",
    "## คำสั่งควบคุมแบบทำซ้ำ\n",
    "\n",
    "### ลูป while\n",
    "\n",
    "### ลูป do ... while\n",
    "\n",
    "### ลูป for\n",
    "\n",
    "### break\n",
    "\n",
    "### continue\n",
    "\n",
    "### นิพจน์เงื่อนไข\n",
    "\n"
   ]
  },
  {
   "cell_type": "code",
   "execution_count": null,
   "metadata": {},
   "outputs": [],
   "source": []
  }
 ],
 "metadata": {
  "kernelspec": {
   "display_name": "SciJava",
   "language": "groovy",
   "name": "scijava"
  },
  "language_info": {
   "codemirror_mode": "groovy",
   "file_extension": "",
   "mimetype": "",
   "name": "scijava",
   "nbconverter_exporter": "",
   "pygments_lexer": "groovy",
   "version": "1.0"
  }
 },
 "nbformat": 4,
 "nbformat_minor": 2
}
